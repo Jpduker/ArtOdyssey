{
 "cells": [
  {
   "cell_type": "code",
   "execution_count": 83,
   "metadata": {},
   "outputs": [],
   "source": [
    "import numpy as np \n",
    "import pandas as pd  \n",
    "import torch\n",
    "import matplotlib.pyplot as plt\n",
    "import os\n",
    "from tqdm.notebook import tqdm\n",
    "import matplotlib.pyplot as plt \n",
    "import torch.nn.functional as F \n",
    "\n",
    "data_dir = './data'"
   ]
  },
  {
   "cell_type": "code",
   "execution_count": 84,
   "metadata": {},
   "outputs": [],
   "source": [
    "from torchvision.datasets import ImageFolder\n",
    "from torch.utils.data import DataLoader \n",
    "from torchvision import transforms as T,datasets  \n",
    "from torchvision.models import resnet50 , mobilenet_v2"
   ]
  },
  {
   "cell_type": "code",
   "execution_count": 85,
   "metadata": {},
   "outputs": [
    {
     "name": "stdout",
     "output_type": "stream",
     "text": [
      "Device:cpu\n"
     ]
    }
   ],
   "source": [
    "class CNFG:\n",
    "    epochs =20                             \n",
    "    lr = 0.001                             \n",
    "    batch_size = 256              \n",
    "    img_size = 224\n",
    "    \n",
    "\n",
    "device = torch.device(\"cuda\" if torch.cuda.is_available() else \"cpu\")\n",
    "print(\"Device:{}\".format(device))"
   ]
  },
  {
   "cell_type": "code",
   "execution_count": 86,
   "metadata": {},
   "outputs": [],
   "source": [
    "data_transform = T.Compose([\n",
    "                             T.Resize(size=(CNFG.img_size,CNFG.img_size)), # Resizing the image to be 224 by 224\n",
    "                            #  T.RandomRotation(degrees=(-20,+20)), #Randomly Rotate Images by +/- 20 degrees, Image argumentation for each epoch\n",
    "                             T.ToTensor(), #converting the dimension from (height,weight,channel) to (channel,height,weight) convention of PyTorch\n",
    "                            #  T.Normalize([0.485,0.456,0.406],[0.229,0.224,0.225]) # Normalize by 3 means 3 StD's of the image net, 3 channels\n",
    "                            \n",
    "])"
   ]
  },
  {
   "cell_type": "code",
   "execution_count": 87,
   "metadata": {},
   "outputs": [
    {
     "data": {
      "text/plain": [
       "150"
      ]
     },
     "execution_count": 87,
     "metadata": {},
     "output_type": "execute_result"
    }
   ],
   "source": [
    "data = datasets.ImageFolder(data_dir,       \n",
    "                    transform=data_transform)\n",
    "total_count = len(data) \n",
    "total_count"
   ]
  },
  {
   "cell_type": "code",
   "execution_count": 88,
   "metadata": {},
   "outputs": [
    {
     "name": "stdout",
     "output_type": "stream",
     "text": [
      "Train data: 90 images\n",
      "Validation data: 45 images\n",
      "Test data: 15 images\n"
     ]
    }
   ],
   "source": [
    "train_count = int(0.6 * total_count) \n",
    "valid_count = int(0.3 * total_count)\n",
    "test_count = total_count - train_count - valid_count\n",
    "train_data, val_data, test_data = torch.utils.data.random_split(data, (train_count, valid_count, test_count))  \n",
    "print(\"Train data: {} images\".format(len(train_data))) \n",
    "print(\"Validation data: {} images\".format(len(val_data))) \n",
    "print(\"Test data: {} images\".format(len(test_data)))"
   ]
  },
  {
   "cell_type": "code",
   "execution_count": 89,
   "metadata": {},
   "outputs": [],
   "source": [
    "def accuracy(y_pred,y_true):\n",
    "    y_pred = F.softmax(y_pred,dim = 1)\n",
    "    top_p,top_class = y_pred.topk(1,dim = 1)\n",
    "    equals = top_class == y_true.view(*top_class.shape)\n",
    "    return torch.mean(equals.type(torch.FloatTensor))"
   ]
  },
  {
   "cell_type": "code",
   "execution_count": 90,
   "metadata": {},
   "outputs": [
    {
     "data": {
      "text/plain": [
       "['arabic', 'chinese', 'indian', 'japanese']"
      ]
     },
     "execution_count": 90,
     "metadata": {},
     "output_type": "execute_result"
    }
   ],
   "source": [
    "train_data.dataset.classes"
   ]
  },
  {
   "cell_type": "code",
   "execution_count": 91,
   "metadata": {},
   "outputs": [
    {
     "data": {
      "text/plain": [
       "<torch.utils.data.dataset.Subset at 0x7f2faf6ee050>"
      ]
     },
     "execution_count": 91,
     "metadata": {},
     "output_type": "execute_result"
    }
   ],
   "source": [
    "train_data"
   ]
  },
  {
   "cell_type": "code",
   "execution_count": 92,
   "metadata": {},
   "outputs": [
    {
     "name": "stdout",
     "output_type": "stream",
     "text": [
      "No. of batches in trainloader:1\n",
      "No. of Total examples:90\n",
      "No. of batches in validationloader:1\n",
      "No. of Total examples:45\n",
      "No. of batches in testloader:1\n",
      "No. of Total examples:15\n"
     ]
    }
   ],
   "source": [
    "trainloader = DataLoader(train_data,batch_size=CNFG.batch_size,shuffle=True)\n",
    "print(\"No. of batches in trainloader:{}\".format(len(trainloader))) \n",
    "print(\"No. of Total examples:{}\".format(len(trainloader.dataset)))\n",
    "\n",
    "validationloader = DataLoader(val_data,batch_size=CNFG.batch_size,shuffle=True)\n",
    "print(\"No. of batches in validationloader:{}\".format(len(validationloader)))  \n",
    "print(\"No. of Total examples:{}\".format(len(validationloader.dataset)))\n",
    "\n",
    "testloader = DataLoader(test_data,batch_size=CNFG.batch_size,shuffle=True)\n",
    "print(\"No. of batches in testloader:{}\".format(len(testloader))) \n",
    "print(\"No. of Total examples:{}\".format(len(testloader.dataset)))"
   ]
  },
  {
   "cell_type": "code",
   "execution_count": 93,
   "metadata": {},
   "outputs": [
    {
     "data": {
      "text/plain": [
       "<torch.utils.data.dataloader.DataLoader at 0x7f2faf6ec760>"
      ]
     },
     "execution_count": 93,
     "metadata": {},
     "output_type": "execute_result"
    }
   ],
   "source": [
    "trainloader"
   ]
  },
  {
   "cell_type": "code",
   "execution_count": 94,
   "metadata": {},
   "outputs": [],
   "source": [
    "from torch import nn\n",
    "import torch.nn.functional as F\n",
    "# import timm # PyTorch Image Models\n",
    "\n",
    "model = mobilenet_v2(pretrained=True) #load pretrained model"
   ]
  },
  {
   "cell_type": "code",
   "execution_count": 95,
   "metadata": {},
   "outputs": [
    {
     "data": {
      "text/plain": [
       "MobileNetV2(\n",
       "  (features): Sequential(\n",
       "    (0): ConvNormActivation(\n",
       "      (0): Conv2d(3, 32, kernel_size=(3, 3), stride=(2, 2), padding=(1, 1), bias=False)\n",
       "      (1): BatchNorm2d(32, eps=1e-05, momentum=0.1, affine=True, track_running_stats=True)\n",
       "      (2): ReLU6(inplace=True)\n",
       "    )\n",
       "    (1): InvertedResidual(\n",
       "      (conv): Sequential(\n",
       "        (0): ConvNormActivation(\n",
       "          (0): Conv2d(32, 32, kernel_size=(3, 3), stride=(1, 1), padding=(1, 1), groups=32, bias=False)\n",
       "          (1): BatchNorm2d(32, eps=1e-05, momentum=0.1, affine=True, track_running_stats=True)\n",
       "          (2): ReLU6(inplace=True)\n",
       "        )\n",
       "        (1): Conv2d(32, 16, kernel_size=(1, 1), stride=(1, 1), bias=False)\n",
       "        (2): BatchNorm2d(16, eps=1e-05, momentum=0.1, affine=True, track_running_stats=True)\n",
       "      )\n",
       "    )\n",
       "    (2): InvertedResidual(\n",
       "      (conv): Sequential(\n",
       "        (0): ConvNormActivation(\n",
       "          (0): Conv2d(16, 96, kernel_size=(1, 1), stride=(1, 1), bias=False)\n",
       "          (1): BatchNorm2d(96, eps=1e-05, momentum=0.1, affine=True, track_running_stats=True)\n",
       "          (2): ReLU6(inplace=True)\n",
       "        )\n",
       "        (1): ConvNormActivation(\n",
       "          (0): Conv2d(96, 96, kernel_size=(3, 3), stride=(2, 2), padding=(1, 1), groups=96, bias=False)\n",
       "          (1): BatchNorm2d(96, eps=1e-05, momentum=0.1, affine=True, track_running_stats=True)\n",
       "          (2): ReLU6(inplace=True)\n",
       "        )\n",
       "        (2): Conv2d(96, 24, kernel_size=(1, 1), stride=(1, 1), bias=False)\n",
       "        (3): BatchNorm2d(24, eps=1e-05, momentum=0.1, affine=True, track_running_stats=True)\n",
       "      )\n",
       "    )\n",
       "    (3): InvertedResidual(\n",
       "      (conv): Sequential(\n",
       "        (0): ConvNormActivation(\n",
       "          (0): Conv2d(24, 144, kernel_size=(1, 1), stride=(1, 1), bias=False)\n",
       "          (1): BatchNorm2d(144, eps=1e-05, momentum=0.1, affine=True, track_running_stats=True)\n",
       "          (2): ReLU6(inplace=True)\n",
       "        )\n",
       "        (1): ConvNormActivation(\n",
       "          (0): Conv2d(144, 144, kernel_size=(3, 3), stride=(1, 1), padding=(1, 1), groups=144, bias=False)\n",
       "          (1): BatchNorm2d(144, eps=1e-05, momentum=0.1, affine=True, track_running_stats=True)\n",
       "          (2): ReLU6(inplace=True)\n",
       "        )\n",
       "        (2): Conv2d(144, 24, kernel_size=(1, 1), stride=(1, 1), bias=False)\n",
       "        (3): BatchNorm2d(24, eps=1e-05, momentum=0.1, affine=True, track_running_stats=True)\n",
       "      )\n",
       "    )\n",
       "    (4): InvertedResidual(\n",
       "      (conv): Sequential(\n",
       "        (0): ConvNormActivation(\n",
       "          (0): Conv2d(24, 144, kernel_size=(1, 1), stride=(1, 1), bias=False)\n",
       "          (1): BatchNorm2d(144, eps=1e-05, momentum=0.1, affine=True, track_running_stats=True)\n",
       "          (2): ReLU6(inplace=True)\n",
       "        )\n",
       "        (1): ConvNormActivation(\n",
       "          (0): Conv2d(144, 144, kernel_size=(3, 3), stride=(2, 2), padding=(1, 1), groups=144, bias=False)\n",
       "          (1): BatchNorm2d(144, eps=1e-05, momentum=0.1, affine=True, track_running_stats=True)\n",
       "          (2): ReLU6(inplace=True)\n",
       "        )\n",
       "        (2): Conv2d(144, 32, kernel_size=(1, 1), stride=(1, 1), bias=False)\n",
       "        (3): BatchNorm2d(32, eps=1e-05, momentum=0.1, affine=True, track_running_stats=True)\n",
       "      )\n",
       "    )\n",
       "    (5): InvertedResidual(\n",
       "      (conv): Sequential(\n",
       "        (0): ConvNormActivation(\n",
       "          (0): Conv2d(32, 192, kernel_size=(1, 1), stride=(1, 1), bias=False)\n",
       "          (1): BatchNorm2d(192, eps=1e-05, momentum=0.1, affine=True, track_running_stats=True)\n",
       "          (2): ReLU6(inplace=True)\n",
       "        )\n",
       "        (1): ConvNormActivation(\n",
       "          (0): Conv2d(192, 192, kernel_size=(3, 3), stride=(1, 1), padding=(1, 1), groups=192, bias=False)\n",
       "          (1): BatchNorm2d(192, eps=1e-05, momentum=0.1, affine=True, track_running_stats=True)\n",
       "          (2): ReLU6(inplace=True)\n",
       "        )\n",
       "        (2): Conv2d(192, 32, kernel_size=(1, 1), stride=(1, 1), bias=False)\n",
       "        (3): BatchNorm2d(32, eps=1e-05, momentum=0.1, affine=True, track_running_stats=True)\n",
       "      )\n",
       "    )\n",
       "    (6): InvertedResidual(\n",
       "      (conv): Sequential(\n",
       "        (0): ConvNormActivation(\n",
       "          (0): Conv2d(32, 192, kernel_size=(1, 1), stride=(1, 1), bias=False)\n",
       "          (1): BatchNorm2d(192, eps=1e-05, momentum=0.1, affine=True, track_running_stats=True)\n",
       "          (2): ReLU6(inplace=True)\n",
       "        )\n",
       "        (1): ConvNormActivation(\n",
       "          (0): Conv2d(192, 192, kernel_size=(3, 3), stride=(1, 1), padding=(1, 1), groups=192, bias=False)\n",
       "          (1): BatchNorm2d(192, eps=1e-05, momentum=0.1, affine=True, track_running_stats=True)\n",
       "          (2): ReLU6(inplace=True)\n",
       "        )\n",
       "        (2): Conv2d(192, 32, kernel_size=(1, 1), stride=(1, 1), bias=False)\n",
       "        (3): BatchNorm2d(32, eps=1e-05, momentum=0.1, affine=True, track_running_stats=True)\n",
       "      )\n",
       "    )\n",
       "    (7): InvertedResidual(\n",
       "      (conv): Sequential(\n",
       "        (0): ConvNormActivation(\n",
       "          (0): Conv2d(32, 192, kernel_size=(1, 1), stride=(1, 1), bias=False)\n",
       "          (1): BatchNorm2d(192, eps=1e-05, momentum=0.1, affine=True, track_running_stats=True)\n",
       "          (2): ReLU6(inplace=True)\n",
       "        )\n",
       "        (1): ConvNormActivation(\n",
       "          (0): Conv2d(192, 192, kernel_size=(3, 3), stride=(2, 2), padding=(1, 1), groups=192, bias=False)\n",
       "          (1): BatchNorm2d(192, eps=1e-05, momentum=0.1, affine=True, track_running_stats=True)\n",
       "          (2): ReLU6(inplace=True)\n",
       "        )\n",
       "        (2): Conv2d(192, 64, kernel_size=(1, 1), stride=(1, 1), bias=False)\n",
       "        (3): BatchNorm2d(64, eps=1e-05, momentum=0.1, affine=True, track_running_stats=True)\n",
       "      )\n",
       "    )\n",
       "    (8): InvertedResidual(\n",
       "      (conv): Sequential(\n",
       "        (0): ConvNormActivation(\n",
       "          (0): Conv2d(64, 384, kernel_size=(1, 1), stride=(1, 1), bias=False)\n",
       "          (1): BatchNorm2d(384, eps=1e-05, momentum=0.1, affine=True, track_running_stats=True)\n",
       "          (2): ReLU6(inplace=True)\n",
       "        )\n",
       "        (1): ConvNormActivation(\n",
       "          (0): Conv2d(384, 384, kernel_size=(3, 3), stride=(1, 1), padding=(1, 1), groups=384, bias=False)\n",
       "          (1): BatchNorm2d(384, eps=1e-05, momentum=0.1, affine=True, track_running_stats=True)\n",
       "          (2): ReLU6(inplace=True)\n",
       "        )\n",
       "        (2): Conv2d(384, 64, kernel_size=(1, 1), stride=(1, 1), bias=False)\n",
       "        (3): BatchNorm2d(64, eps=1e-05, momentum=0.1, affine=True, track_running_stats=True)\n",
       "      )\n",
       "    )\n",
       "    (9): InvertedResidual(\n",
       "      (conv): Sequential(\n",
       "        (0): ConvNormActivation(\n",
       "          (0): Conv2d(64, 384, kernel_size=(1, 1), stride=(1, 1), bias=False)\n",
       "          (1): BatchNorm2d(384, eps=1e-05, momentum=0.1, affine=True, track_running_stats=True)\n",
       "          (2): ReLU6(inplace=True)\n",
       "        )\n",
       "        (1): ConvNormActivation(\n",
       "          (0): Conv2d(384, 384, kernel_size=(3, 3), stride=(1, 1), padding=(1, 1), groups=384, bias=False)\n",
       "          (1): BatchNorm2d(384, eps=1e-05, momentum=0.1, affine=True, track_running_stats=True)\n",
       "          (2): ReLU6(inplace=True)\n",
       "        )\n",
       "        (2): Conv2d(384, 64, kernel_size=(1, 1), stride=(1, 1), bias=False)\n",
       "        (3): BatchNorm2d(64, eps=1e-05, momentum=0.1, affine=True, track_running_stats=True)\n",
       "      )\n",
       "    )\n",
       "    (10): InvertedResidual(\n",
       "      (conv): Sequential(\n",
       "        (0): ConvNormActivation(\n",
       "          (0): Conv2d(64, 384, kernel_size=(1, 1), stride=(1, 1), bias=False)\n",
       "          (1): BatchNorm2d(384, eps=1e-05, momentum=0.1, affine=True, track_running_stats=True)\n",
       "          (2): ReLU6(inplace=True)\n",
       "        )\n",
       "        (1): ConvNormActivation(\n",
       "          (0): Conv2d(384, 384, kernel_size=(3, 3), stride=(1, 1), padding=(1, 1), groups=384, bias=False)\n",
       "          (1): BatchNorm2d(384, eps=1e-05, momentum=0.1, affine=True, track_running_stats=True)\n",
       "          (2): ReLU6(inplace=True)\n",
       "        )\n",
       "        (2): Conv2d(384, 64, kernel_size=(1, 1), stride=(1, 1), bias=False)\n",
       "        (3): BatchNorm2d(64, eps=1e-05, momentum=0.1, affine=True, track_running_stats=True)\n",
       "      )\n",
       "    )\n",
       "    (11): InvertedResidual(\n",
       "      (conv): Sequential(\n",
       "        (0): ConvNormActivation(\n",
       "          (0): Conv2d(64, 384, kernel_size=(1, 1), stride=(1, 1), bias=False)\n",
       "          (1): BatchNorm2d(384, eps=1e-05, momentum=0.1, affine=True, track_running_stats=True)\n",
       "          (2): ReLU6(inplace=True)\n",
       "        )\n",
       "        (1): ConvNormActivation(\n",
       "          (0): Conv2d(384, 384, kernel_size=(3, 3), stride=(1, 1), padding=(1, 1), groups=384, bias=False)\n",
       "          (1): BatchNorm2d(384, eps=1e-05, momentum=0.1, affine=True, track_running_stats=True)\n",
       "          (2): ReLU6(inplace=True)\n",
       "        )\n",
       "        (2): Conv2d(384, 96, kernel_size=(1, 1), stride=(1, 1), bias=False)\n",
       "        (3): BatchNorm2d(96, eps=1e-05, momentum=0.1, affine=True, track_running_stats=True)\n",
       "      )\n",
       "    )\n",
       "    (12): InvertedResidual(\n",
       "      (conv): Sequential(\n",
       "        (0): ConvNormActivation(\n",
       "          (0): Conv2d(96, 576, kernel_size=(1, 1), stride=(1, 1), bias=False)\n",
       "          (1): BatchNorm2d(576, eps=1e-05, momentum=0.1, affine=True, track_running_stats=True)\n",
       "          (2): ReLU6(inplace=True)\n",
       "        )\n",
       "        (1): ConvNormActivation(\n",
       "          (0): Conv2d(576, 576, kernel_size=(3, 3), stride=(1, 1), padding=(1, 1), groups=576, bias=False)\n",
       "          (1): BatchNorm2d(576, eps=1e-05, momentum=0.1, affine=True, track_running_stats=True)\n",
       "          (2): ReLU6(inplace=True)\n",
       "        )\n",
       "        (2): Conv2d(576, 96, kernel_size=(1, 1), stride=(1, 1), bias=False)\n",
       "        (3): BatchNorm2d(96, eps=1e-05, momentum=0.1, affine=True, track_running_stats=True)\n",
       "      )\n",
       "    )\n",
       "    (13): InvertedResidual(\n",
       "      (conv): Sequential(\n",
       "        (0): ConvNormActivation(\n",
       "          (0): Conv2d(96, 576, kernel_size=(1, 1), stride=(1, 1), bias=False)\n",
       "          (1): BatchNorm2d(576, eps=1e-05, momentum=0.1, affine=True, track_running_stats=True)\n",
       "          (2): ReLU6(inplace=True)\n",
       "        )\n",
       "        (1): ConvNormActivation(\n",
       "          (0): Conv2d(576, 576, kernel_size=(3, 3), stride=(1, 1), padding=(1, 1), groups=576, bias=False)\n",
       "          (1): BatchNorm2d(576, eps=1e-05, momentum=0.1, affine=True, track_running_stats=True)\n",
       "          (2): ReLU6(inplace=True)\n",
       "        )\n",
       "        (2): Conv2d(576, 96, kernel_size=(1, 1), stride=(1, 1), bias=False)\n",
       "        (3): BatchNorm2d(96, eps=1e-05, momentum=0.1, affine=True, track_running_stats=True)\n",
       "      )\n",
       "    )\n",
       "    (14): InvertedResidual(\n",
       "      (conv): Sequential(\n",
       "        (0): ConvNormActivation(\n",
       "          (0): Conv2d(96, 576, kernel_size=(1, 1), stride=(1, 1), bias=False)\n",
       "          (1): BatchNorm2d(576, eps=1e-05, momentum=0.1, affine=True, track_running_stats=True)\n",
       "          (2): ReLU6(inplace=True)\n",
       "        )\n",
       "        (1): ConvNormActivation(\n",
       "          (0): Conv2d(576, 576, kernel_size=(3, 3), stride=(2, 2), padding=(1, 1), groups=576, bias=False)\n",
       "          (1): BatchNorm2d(576, eps=1e-05, momentum=0.1, affine=True, track_running_stats=True)\n",
       "          (2): ReLU6(inplace=True)\n",
       "        )\n",
       "        (2): Conv2d(576, 160, kernel_size=(1, 1), stride=(1, 1), bias=False)\n",
       "        (3): BatchNorm2d(160, eps=1e-05, momentum=0.1, affine=True, track_running_stats=True)\n",
       "      )\n",
       "    )\n",
       "    (15): InvertedResidual(\n",
       "      (conv): Sequential(\n",
       "        (0): ConvNormActivation(\n",
       "          (0): Conv2d(160, 960, kernel_size=(1, 1), stride=(1, 1), bias=False)\n",
       "          (1): BatchNorm2d(960, eps=1e-05, momentum=0.1, affine=True, track_running_stats=True)\n",
       "          (2): ReLU6(inplace=True)\n",
       "        )\n",
       "        (1): ConvNormActivation(\n",
       "          (0): Conv2d(960, 960, kernel_size=(3, 3), stride=(1, 1), padding=(1, 1), groups=960, bias=False)\n",
       "          (1): BatchNorm2d(960, eps=1e-05, momentum=0.1, affine=True, track_running_stats=True)\n",
       "          (2): ReLU6(inplace=True)\n",
       "        )\n",
       "        (2): Conv2d(960, 160, kernel_size=(1, 1), stride=(1, 1), bias=False)\n",
       "        (3): BatchNorm2d(160, eps=1e-05, momentum=0.1, affine=True, track_running_stats=True)\n",
       "      )\n",
       "    )\n",
       "    (16): InvertedResidual(\n",
       "      (conv): Sequential(\n",
       "        (0): ConvNormActivation(\n",
       "          (0): Conv2d(160, 960, kernel_size=(1, 1), stride=(1, 1), bias=False)\n",
       "          (1): BatchNorm2d(960, eps=1e-05, momentum=0.1, affine=True, track_running_stats=True)\n",
       "          (2): ReLU6(inplace=True)\n",
       "        )\n",
       "        (1): ConvNormActivation(\n",
       "          (0): Conv2d(960, 960, kernel_size=(3, 3), stride=(1, 1), padding=(1, 1), groups=960, bias=False)\n",
       "          (1): BatchNorm2d(960, eps=1e-05, momentum=0.1, affine=True, track_running_stats=True)\n",
       "          (2): ReLU6(inplace=True)\n",
       "        )\n",
       "        (2): Conv2d(960, 160, kernel_size=(1, 1), stride=(1, 1), bias=False)\n",
       "        (3): BatchNorm2d(160, eps=1e-05, momentum=0.1, affine=True, track_running_stats=True)\n",
       "      )\n",
       "    )\n",
       "    (17): InvertedResidual(\n",
       "      (conv): Sequential(\n",
       "        (0): ConvNormActivation(\n",
       "          (0): Conv2d(160, 960, kernel_size=(1, 1), stride=(1, 1), bias=False)\n",
       "          (1): BatchNorm2d(960, eps=1e-05, momentum=0.1, affine=True, track_running_stats=True)\n",
       "          (2): ReLU6(inplace=True)\n",
       "        )\n",
       "        (1): ConvNormActivation(\n",
       "          (0): Conv2d(960, 960, kernel_size=(3, 3), stride=(1, 1), padding=(1, 1), groups=960, bias=False)\n",
       "          (1): BatchNorm2d(960, eps=1e-05, momentum=0.1, affine=True, track_running_stats=True)\n",
       "          (2): ReLU6(inplace=True)\n",
       "        )\n",
       "        (2): Conv2d(960, 320, kernel_size=(1, 1), stride=(1, 1), bias=False)\n",
       "        (3): BatchNorm2d(320, eps=1e-05, momentum=0.1, affine=True, track_running_stats=True)\n",
       "      )\n",
       "    )\n",
       "    (18): ConvNormActivation(\n",
       "      (0): Conv2d(320, 1280, kernel_size=(1, 1), stride=(1, 1), bias=False)\n",
       "      (1): BatchNorm2d(1280, eps=1e-05, momentum=0.1, affine=True, track_running_stats=True)\n",
       "      (2): ReLU6(inplace=True)\n",
       "    )\n",
       "  )\n",
       "  (classifier): Sequential(\n",
       "    (0): Dropout(p=0.2, inplace=False)\n",
       "    (1): Linear(in_features=1280, out_features=1000, bias=True)\n",
       "  )\n",
       ")"
      ]
     },
     "execution_count": 95,
     "metadata": {},
     "output_type": "execute_result"
    }
   ],
   "source": [
    "model.eval()"
   ]
  },
  {
   "cell_type": "code",
   "execution_count": 96,
   "metadata": {},
   "outputs": [],
   "source": [
    "#Updating the pretrained model:\n",
    "for param in model.parameters():\n",
    "    param.requires_grad=True"
   ]
  },
  {
   "cell_type": "code",
   "execution_count": 97,
   "metadata": {},
   "outputs": [],
   "source": [
    "model.fc = nn.Linear(in_features=2048,out_features = 4, bias=True)"
   ]
  },
  {
   "cell_type": "code",
   "execution_count": 98,
   "metadata": {},
   "outputs": [
    {
     "data": {
      "text/plain": [
       "MobileNetV2(\n",
       "  (features): Sequential(\n",
       "    (0): ConvNormActivation(\n",
       "      (0): Conv2d(3, 32, kernel_size=(3, 3), stride=(2, 2), padding=(1, 1), bias=False)\n",
       "      (1): BatchNorm2d(32, eps=1e-05, momentum=0.1, affine=True, track_running_stats=True)\n",
       "      (2): ReLU6(inplace=True)\n",
       "    )\n",
       "    (1): InvertedResidual(\n",
       "      (conv): Sequential(\n",
       "        (0): ConvNormActivation(\n",
       "          (0): Conv2d(32, 32, kernel_size=(3, 3), stride=(1, 1), padding=(1, 1), groups=32, bias=False)\n",
       "          (1): BatchNorm2d(32, eps=1e-05, momentum=0.1, affine=True, track_running_stats=True)\n",
       "          (2): ReLU6(inplace=True)\n",
       "        )\n",
       "        (1): Conv2d(32, 16, kernel_size=(1, 1), stride=(1, 1), bias=False)\n",
       "        (2): BatchNorm2d(16, eps=1e-05, momentum=0.1, affine=True, track_running_stats=True)\n",
       "      )\n",
       "    )\n",
       "    (2): InvertedResidual(\n",
       "      (conv): Sequential(\n",
       "        (0): ConvNormActivation(\n",
       "          (0): Conv2d(16, 96, kernel_size=(1, 1), stride=(1, 1), bias=False)\n",
       "          (1): BatchNorm2d(96, eps=1e-05, momentum=0.1, affine=True, track_running_stats=True)\n",
       "          (2): ReLU6(inplace=True)\n",
       "        )\n",
       "        (1): ConvNormActivation(\n",
       "          (0): Conv2d(96, 96, kernel_size=(3, 3), stride=(2, 2), padding=(1, 1), groups=96, bias=False)\n",
       "          (1): BatchNorm2d(96, eps=1e-05, momentum=0.1, affine=True, track_running_stats=True)\n",
       "          (2): ReLU6(inplace=True)\n",
       "        )\n",
       "        (2): Conv2d(96, 24, kernel_size=(1, 1), stride=(1, 1), bias=False)\n",
       "        (3): BatchNorm2d(24, eps=1e-05, momentum=0.1, affine=True, track_running_stats=True)\n",
       "      )\n",
       "    )\n",
       "    (3): InvertedResidual(\n",
       "      (conv): Sequential(\n",
       "        (0): ConvNormActivation(\n",
       "          (0): Conv2d(24, 144, kernel_size=(1, 1), stride=(1, 1), bias=False)\n",
       "          (1): BatchNorm2d(144, eps=1e-05, momentum=0.1, affine=True, track_running_stats=True)\n",
       "          (2): ReLU6(inplace=True)\n",
       "        )\n",
       "        (1): ConvNormActivation(\n",
       "          (0): Conv2d(144, 144, kernel_size=(3, 3), stride=(1, 1), padding=(1, 1), groups=144, bias=False)\n",
       "          (1): BatchNorm2d(144, eps=1e-05, momentum=0.1, affine=True, track_running_stats=True)\n",
       "          (2): ReLU6(inplace=True)\n",
       "        )\n",
       "        (2): Conv2d(144, 24, kernel_size=(1, 1), stride=(1, 1), bias=False)\n",
       "        (3): BatchNorm2d(24, eps=1e-05, momentum=0.1, affine=True, track_running_stats=True)\n",
       "      )\n",
       "    )\n",
       "    (4): InvertedResidual(\n",
       "      (conv): Sequential(\n",
       "        (0): ConvNormActivation(\n",
       "          (0): Conv2d(24, 144, kernel_size=(1, 1), stride=(1, 1), bias=False)\n",
       "          (1): BatchNorm2d(144, eps=1e-05, momentum=0.1, affine=True, track_running_stats=True)\n",
       "          (2): ReLU6(inplace=True)\n",
       "        )\n",
       "        (1): ConvNormActivation(\n",
       "          (0): Conv2d(144, 144, kernel_size=(3, 3), stride=(2, 2), padding=(1, 1), groups=144, bias=False)\n",
       "          (1): BatchNorm2d(144, eps=1e-05, momentum=0.1, affine=True, track_running_stats=True)\n",
       "          (2): ReLU6(inplace=True)\n",
       "        )\n",
       "        (2): Conv2d(144, 32, kernel_size=(1, 1), stride=(1, 1), bias=False)\n",
       "        (3): BatchNorm2d(32, eps=1e-05, momentum=0.1, affine=True, track_running_stats=True)\n",
       "      )\n",
       "    )\n",
       "    (5): InvertedResidual(\n",
       "      (conv): Sequential(\n",
       "        (0): ConvNormActivation(\n",
       "          (0): Conv2d(32, 192, kernel_size=(1, 1), stride=(1, 1), bias=False)\n",
       "          (1): BatchNorm2d(192, eps=1e-05, momentum=0.1, affine=True, track_running_stats=True)\n",
       "          (2): ReLU6(inplace=True)\n",
       "        )\n",
       "        (1): ConvNormActivation(\n",
       "          (0): Conv2d(192, 192, kernel_size=(3, 3), stride=(1, 1), padding=(1, 1), groups=192, bias=False)\n",
       "          (1): BatchNorm2d(192, eps=1e-05, momentum=0.1, affine=True, track_running_stats=True)\n",
       "          (2): ReLU6(inplace=True)\n",
       "        )\n",
       "        (2): Conv2d(192, 32, kernel_size=(1, 1), stride=(1, 1), bias=False)\n",
       "        (3): BatchNorm2d(32, eps=1e-05, momentum=0.1, affine=True, track_running_stats=True)\n",
       "      )\n",
       "    )\n",
       "    (6): InvertedResidual(\n",
       "      (conv): Sequential(\n",
       "        (0): ConvNormActivation(\n",
       "          (0): Conv2d(32, 192, kernel_size=(1, 1), stride=(1, 1), bias=False)\n",
       "          (1): BatchNorm2d(192, eps=1e-05, momentum=0.1, affine=True, track_running_stats=True)\n",
       "          (2): ReLU6(inplace=True)\n",
       "        )\n",
       "        (1): ConvNormActivation(\n",
       "          (0): Conv2d(192, 192, kernel_size=(3, 3), stride=(1, 1), padding=(1, 1), groups=192, bias=False)\n",
       "          (1): BatchNorm2d(192, eps=1e-05, momentum=0.1, affine=True, track_running_stats=True)\n",
       "          (2): ReLU6(inplace=True)\n",
       "        )\n",
       "        (2): Conv2d(192, 32, kernel_size=(1, 1), stride=(1, 1), bias=False)\n",
       "        (3): BatchNorm2d(32, eps=1e-05, momentum=0.1, affine=True, track_running_stats=True)\n",
       "      )\n",
       "    )\n",
       "    (7): InvertedResidual(\n",
       "      (conv): Sequential(\n",
       "        (0): ConvNormActivation(\n",
       "          (0): Conv2d(32, 192, kernel_size=(1, 1), stride=(1, 1), bias=False)\n",
       "          (1): BatchNorm2d(192, eps=1e-05, momentum=0.1, affine=True, track_running_stats=True)\n",
       "          (2): ReLU6(inplace=True)\n",
       "        )\n",
       "        (1): ConvNormActivation(\n",
       "          (0): Conv2d(192, 192, kernel_size=(3, 3), stride=(2, 2), padding=(1, 1), groups=192, bias=False)\n",
       "          (1): BatchNorm2d(192, eps=1e-05, momentum=0.1, affine=True, track_running_stats=True)\n",
       "          (2): ReLU6(inplace=True)\n",
       "        )\n",
       "        (2): Conv2d(192, 64, kernel_size=(1, 1), stride=(1, 1), bias=False)\n",
       "        (3): BatchNorm2d(64, eps=1e-05, momentum=0.1, affine=True, track_running_stats=True)\n",
       "      )\n",
       "    )\n",
       "    (8): InvertedResidual(\n",
       "      (conv): Sequential(\n",
       "        (0): ConvNormActivation(\n",
       "          (0): Conv2d(64, 384, kernel_size=(1, 1), stride=(1, 1), bias=False)\n",
       "          (1): BatchNorm2d(384, eps=1e-05, momentum=0.1, affine=True, track_running_stats=True)\n",
       "          (2): ReLU6(inplace=True)\n",
       "        )\n",
       "        (1): ConvNormActivation(\n",
       "          (0): Conv2d(384, 384, kernel_size=(3, 3), stride=(1, 1), padding=(1, 1), groups=384, bias=False)\n",
       "          (1): BatchNorm2d(384, eps=1e-05, momentum=0.1, affine=True, track_running_stats=True)\n",
       "          (2): ReLU6(inplace=True)\n",
       "        )\n",
       "        (2): Conv2d(384, 64, kernel_size=(1, 1), stride=(1, 1), bias=False)\n",
       "        (3): BatchNorm2d(64, eps=1e-05, momentum=0.1, affine=True, track_running_stats=True)\n",
       "      )\n",
       "    )\n",
       "    (9): InvertedResidual(\n",
       "      (conv): Sequential(\n",
       "        (0): ConvNormActivation(\n",
       "          (0): Conv2d(64, 384, kernel_size=(1, 1), stride=(1, 1), bias=False)\n",
       "          (1): BatchNorm2d(384, eps=1e-05, momentum=0.1, affine=True, track_running_stats=True)\n",
       "          (2): ReLU6(inplace=True)\n",
       "        )\n",
       "        (1): ConvNormActivation(\n",
       "          (0): Conv2d(384, 384, kernel_size=(3, 3), stride=(1, 1), padding=(1, 1), groups=384, bias=False)\n",
       "          (1): BatchNorm2d(384, eps=1e-05, momentum=0.1, affine=True, track_running_stats=True)\n",
       "          (2): ReLU6(inplace=True)\n",
       "        )\n",
       "        (2): Conv2d(384, 64, kernel_size=(1, 1), stride=(1, 1), bias=False)\n",
       "        (3): BatchNorm2d(64, eps=1e-05, momentum=0.1, affine=True, track_running_stats=True)\n",
       "      )\n",
       "    )\n",
       "    (10): InvertedResidual(\n",
       "      (conv): Sequential(\n",
       "        (0): ConvNormActivation(\n",
       "          (0): Conv2d(64, 384, kernel_size=(1, 1), stride=(1, 1), bias=False)\n",
       "          (1): BatchNorm2d(384, eps=1e-05, momentum=0.1, affine=True, track_running_stats=True)\n",
       "          (2): ReLU6(inplace=True)\n",
       "        )\n",
       "        (1): ConvNormActivation(\n",
       "          (0): Conv2d(384, 384, kernel_size=(3, 3), stride=(1, 1), padding=(1, 1), groups=384, bias=False)\n",
       "          (1): BatchNorm2d(384, eps=1e-05, momentum=0.1, affine=True, track_running_stats=True)\n",
       "          (2): ReLU6(inplace=True)\n",
       "        )\n",
       "        (2): Conv2d(384, 64, kernel_size=(1, 1), stride=(1, 1), bias=False)\n",
       "        (3): BatchNorm2d(64, eps=1e-05, momentum=0.1, affine=True, track_running_stats=True)\n",
       "      )\n",
       "    )\n",
       "    (11): InvertedResidual(\n",
       "      (conv): Sequential(\n",
       "        (0): ConvNormActivation(\n",
       "          (0): Conv2d(64, 384, kernel_size=(1, 1), stride=(1, 1), bias=False)\n",
       "          (1): BatchNorm2d(384, eps=1e-05, momentum=0.1, affine=True, track_running_stats=True)\n",
       "          (2): ReLU6(inplace=True)\n",
       "        )\n",
       "        (1): ConvNormActivation(\n",
       "          (0): Conv2d(384, 384, kernel_size=(3, 3), stride=(1, 1), padding=(1, 1), groups=384, bias=False)\n",
       "          (1): BatchNorm2d(384, eps=1e-05, momentum=0.1, affine=True, track_running_stats=True)\n",
       "          (2): ReLU6(inplace=True)\n",
       "        )\n",
       "        (2): Conv2d(384, 96, kernel_size=(1, 1), stride=(1, 1), bias=False)\n",
       "        (3): BatchNorm2d(96, eps=1e-05, momentum=0.1, affine=True, track_running_stats=True)\n",
       "      )\n",
       "    )\n",
       "    (12): InvertedResidual(\n",
       "      (conv): Sequential(\n",
       "        (0): ConvNormActivation(\n",
       "          (0): Conv2d(96, 576, kernel_size=(1, 1), stride=(1, 1), bias=False)\n",
       "          (1): BatchNorm2d(576, eps=1e-05, momentum=0.1, affine=True, track_running_stats=True)\n",
       "          (2): ReLU6(inplace=True)\n",
       "        )\n",
       "        (1): ConvNormActivation(\n",
       "          (0): Conv2d(576, 576, kernel_size=(3, 3), stride=(1, 1), padding=(1, 1), groups=576, bias=False)\n",
       "          (1): BatchNorm2d(576, eps=1e-05, momentum=0.1, affine=True, track_running_stats=True)\n",
       "          (2): ReLU6(inplace=True)\n",
       "        )\n",
       "        (2): Conv2d(576, 96, kernel_size=(1, 1), stride=(1, 1), bias=False)\n",
       "        (3): BatchNorm2d(96, eps=1e-05, momentum=0.1, affine=True, track_running_stats=True)\n",
       "      )\n",
       "    )\n",
       "    (13): InvertedResidual(\n",
       "      (conv): Sequential(\n",
       "        (0): ConvNormActivation(\n",
       "          (0): Conv2d(96, 576, kernel_size=(1, 1), stride=(1, 1), bias=False)\n",
       "          (1): BatchNorm2d(576, eps=1e-05, momentum=0.1, affine=True, track_running_stats=True)\n",
       "          (2): ReLU6(inplace=True)\n",
       "        )\n",
       "        (1): ConvNormActivation(\n",
       "          (0): Conv2d(576, 576, kernel_size=(3, 3), stride=(1, 1), padding=(1, 1), groups=576, bias=False)\n",
       "          (1): BatchNorm2d(576, eps=1e-05, momentum=0.1, affine=True, track_running_stats=True)\n",
       "          (2): ReLU6(inplace=True)\n",
       "        )\n",
       "        (2): Conv2d(576, 96, kernel_size=(1, 1), stride=(1, 1), bias=False)\n",
       "        (3): BatchNorm2d(96, eps=1e-05, momentum=0.1, affine=True, track_running_stats=True)\n",
       "      )\n",
       "    )\n",
       "    (14): InvertedResidual(\n",
       "      (conv): Sequential(\n",
       "        (0): ConvNormActivation(\n",
       "          (0): Conv2d(96, 576, kernel_size=(1, 1), stride=(1, 1), bias=False)\n",
       "          (1): BatchNorm2d(576, eps=1e-05, momentum=0.1, affine=True, track_running_stats=True)\n",
       "          (2): ReLU6(inplace=True)\n",
       "        )\n",
       "        (1): ConvNormActivation(\n",
       "          (0): Conv2d(576, 576, kernel_size=(3, 3), stride=(2, 2), padding=(1, 1), groups=576, bias=False)\n",
       "          (1): BatchNorm2d(576, eps=1e-05, momentum=0.1, affine=True, track_running_stats=True)\n",
       "          (2): ReLU6(inplace=True)\n",
       "        )\n",
       "        (2): Conv2d(576, 160, kernel_size=(1, 1), stride=(1, 1), bias=False)\n",
       "        (3): BatchNorm2d(160, eps=1e-05, momentum=0.1, affine=True, track_running_stats=True)\n",
       "      )\n",
       "    )\n",
       "    (15): InvertedResidual(\n",
       "      (conv): Sequential(\n",
       "        (0): ConvNormActivation(\n",
       "          (0): Conv2d(160, 960, kernel_size=(1, 1), stride=(1, 1), bias=False)\n",
       "          (1): BatchNorm2d(960, eps=1e-05, momentum=0.1, affine=True, track_running_stats=True)\n",
       "          (2): ReLU6(inplace=True)\n",
       "        )\n",
       "        (1): ConvNormActivation(\n",
       "          (0): Conv2d(960, 960, kernel_size=(3, 3), stride=(1, 1), padding=(1, 1), groups=960, bias=False)\n",
       "          (1): BatchNorm2d(960, eps=1e-05, momentum=0.1, affine=True, track_running_stats=True)\n",
       "          (2): ReLU6(inplace=True)\n",
       "        )\n",
       "        (2): Conv2d(960, 160, kernel_size=(1, 1), stride=(1, 1), bias=False)\n",
       "        (3): BatchNorm2d(160, eps=1e-05, momentum=0.1, affine=True, track_running_stats=True)\n",
       "      )\n",
       "    )\n",
       "    (16): InvertedResidual(\n",
       "      (conv): Sequential(\n",
       "        (0): ConvNormActivation(\n",
       "          (0): Conv2d(160, 960, kernel_size=(1, 1), stride=(1, 1), bias=False)\n",
       "          (1): BatchNorm2d(960, eps=1e-05, momentum=0.1, affine=True, track_running_stats=True)\n",
       "          (2): ReLU6(inplace=True)\n",
       "        )\n",
       "        (1): ConvNormActivation(\n",
       "          (0): Conv2d(960, 960, kernel_size=(3, 3), stride=(1, 1), padding=(1, 1), groups=960, bias=False)\n",
       "          (1): BatchNorm2d(960, eps=1e-05, momentum=0.1, affine=True, track_running_stats=True)\n",
       "          (2): ReLU6(inplace=True)\n",
       "        )\n",
       "        (2): Conv2d(960, 160, kernel_size=(1, 1), stride=(1, 1), bias=False)\n",
       "        (3): BatchNorm2d(160, eps=1e-05, momentum=0.1, affine=True, track_running_stats=True)\n",
       "      )\n",
       "    )\n",
       "    (17): InvertedResidual(\n",
       "      (conv): Sequential(\n",
       "        (0): ConvNormActivation(\n",
       "          (0): Conv2d(160, 960, kernel_size=(1, 1), stride=(1, 1), bias=False)\n",
       "          (1): BatchNorm2d(960, eps=1e-05, momentum=0.1, affine=True, track_running_stats=True)\n",
       "          (2): ReLU6(inplace=True)\n",
       "        )\n",
       "        (1): ConvNormActivation(\n",
       "          (0): Conv2d(960, 960, kernel_size=(3, 3), stride=(1, 1), padding=(1, 1), groups=960, bias=False)\n",
       "          (1): BatchNorm2d(960, eps=1e-05, momentum=0.1, affine=True, track_running_stats=True)\n",
       "          (2): ReLU6(inplace=True)\n",
       "        )\n",
       "        (2): Conv2d(960, 320, kernel_size=(1, 1), stride=(1, 1), bias=False)\n",
       "        (3): BatchNorm2d(320, eps=1e-05, momentum=0.1, affine=True, track_running_stats=True)\n",
       "      )\n",
       "    )\n",
       "    (18): ConvNormActivation(\n",
       "      (0): Conv2d(320, 1280, kernel_size=(1, 1), stride=(1, 1), bias=False)\n",
       "      (1): BatchNorm2d(1280, eps=1e-05, momentum=0.1, affine=True, track_running_stats=True)\n",
       "      (2): ReLU6(inplace=True)\n",
       "    )\n",
       "  )\n",
       "  (classifier): Sequential(\n",
       "    (0): Dropout(p=0.2, inplace=False)\n",
       "    (1): Linear(in_features=1280, out_features=1000, bias=True)\n",
       "  )\n",
       "  (fc): Linear(in_features=2048, out_features=4, bias=True)\n",
       ")"
      ]
     },
     "execution_count": 98,
     "metadata": {},
     "output_type": "execute_result"
    }
   ],
   "source": [
    "model.eval()"
   ]
  },
  {
   "cell_type": "code",
   "execution_count": 99,
   "metadata": {},
   "outputs": [
    {
     "name": "stdout",
     "output_type": "stream",
     "text": [
      "======================================================================\n",
      "Layer (type:depth-idx)                        Param #\n",
      "======================================================================\n",
      "├─Sequential: 1-1                             --\n",
      "|    └─ConvNormActivation: 2-1                --\n",
      "|    |    └─Conv2d: 3-1                       864\n",
      "|    |    └─BatchNorm2d: 3-2                  64\n",
      "|    |    └─ReLU6: 3-3                        --\n",
      "|    └─InvertedResidual: 2-2                  --\n",
      "|    |    └─Sequential: 3-4                   896\n",
      "|    └─InvertedResidual: 2-3                  --\n",
      "|    |    └─Sequential: 3-5                   5,136\n",
      "|    └─InvertedResidual: 2-4                  --\n",
      "|    |    └─Sequential: 3-6                   8,832\n",
      "|    └─InvertedResidual: 2-5                  --\n",
      "|    |    └─Sequential: 3-7                   10,000\n",
      "|    └─InvertedResidual: 2-6                  --\n",
      "|    |    └─Sequential: 3-8                   14,848\n",
      "|    └─InvertedResidual: 2-7                  --\n",
      "|    |    └─Sequential: 3-9                   14,848\n",
      "|    └─InvertedResidual: 2-8                  --\n",
      "|    |    └─Sequential: 3-10                  21,056\n",
      "|    └─InvertedResidual: 2-9                  --\n",
      "|    |    └─Sequential: 3-11                  54,272\n",
      "|    └─InvertedResidual: 2-10                 --\n",
      "|    |    └─Sequential: 3-12                  54,272\n",
      "|    └─InvertedResidual: 2-11                 --\n",
      "|    |    └─Sequential: 3-13                  54,272\n",
      "|    └─InvertedResidual: 2-12                 --\n",
      "|    |    └─Sequential: 3-14                  66,624\n",
      "|    └─InvertedResidual: 2-13                 --\n",
      "|    |    └─Sequential: 3-15                  118,272\n",
      "|    └─InvertedResidual: 2-14                 --\n",
      "|    |    └─Sequential: 3-16                  118,272\n",
      "|    └─InvertedResidual: 2-15                 --\n",
      "|    |    └─Sequential: 3-17                  155,264\n",
      "|    └─InvertedResidual: 2-16                 --\n",
      "|    |    └─Sequential: 3-18                  320,000\n",
      "|    └─InvertedResidual: 2-17                 --\n",
      "|    |    └─Sequential: 3-19                  320,000\n",
      "|    └─InvertedResidual: 2-18                 --\n",
      "|    |    └─Sequential: 3-20                  473,920\n",
      "|    └─ConvNormActivation: 2-19               --\n",
      "|    |    └─Conv2d: 3-21                      409,600\n",
      "|    |    └─BatchNorm2d: 3-22                 2,560\n",
      "|    |    └─ReLU6: 3-23                       --\n",
      "├─Sequential: 1-2                             --\n",
      "|    └─Dropout: 2-20                          --\n",
      "|    └─Linear: 2-21                           1,281,000\n",
      "├─Linear: 1-3                                 8,196\n",
      "======================================================================\n",
      "Total params: 3,513,068\n",
      "Trainable params: 3,513,068\n",
      "Non-trainable params: 0\n",
      "======================================================================\n"
     ]
    },
    {
     "data": {
      "text/plain": [
       "======================================================================\n",
       "Layer (type:depth-idx)                        Param #\n",
       "======================================================================\n",
       "├─Sequential: 1-1                             --\n",
       "|    └─ConvNormActivation: 2-1                --\n",
       "|    |    └─Conv2d: 3-1                       864\n",
       "|    |    └─BatchNorm2d: 3-2                  64\n",
       "|    |    └─ReLU6: 3-3                        --\n",
       "|    └─InvertedResidual: 2-2                  --\n",
       "|    |    └─Sequential: 3-4                   896\n",
       "|    └─InvertedResidual: 2-3                  --\n",
       "|    |    └─Sequential: 3-5                   5,136\n",
       "|    └─InvertedResidual: 2-4                  --\n",
       "|    |    └─Sequential: 3-6                   8,832\n",
       "|    └─InvertedResidual: 2-5                  --\n",
       "|    |    └─Sequential: 3-7                   10,000\n",
       "|    └─InvertedResidual: 2-6                  --\n",
       "|    |    └─Sequential: 3-8                   14,848\n",
       "|    └─InvertedResidual: 2-7                  --\n",
       "|    |    └─Sequential: 3-9                   14,848\n",
       "|    └─InvertedResidual: 2-8                  --\n",
       "|    |    └─Sequential: 3-10                  21,056\n",
       "|    └─InvertedResidual: 2-9                  --\n",
       "|    |    └─Sequential: 3-11                  54,272\n",
       "|    └─InvertedResidual: 2-10                 --\n",
       "|    |    └─Sequential: 3-12                  54,272\n",
       "|    └─InvertedResidual: 2-11                 --\n",
       "|    |    └─Sequential: 3-13                  54,272\n",
       "|    └─InvertedResidual: 2-12                 --\n",
       "|    |    └─Sequential: 3-14                  66,624\n",
       "|    └─InvertedResidual: 2-13                 --\n",
       "|    |    └─Sequential: 3-15                  118,272\n",
       "|    └─InvertedResidual: 2-14                 --\n",
       "|    |    └─Sequential: 3-16                  118,272\n",
       "|    └─InvertedResidual: 2-15                 --\n",
       "|    |    └─Sequential: 3-17                  155,264\n",
       "|    └─InvertedResidual: 2-16                 --\n",
       "|    |    └─Sequential: 3-18                  320,000\n",
       "|    └─InvertedResidual: 2-17                 --\n",
       "|    |    └─Sequential: 3-19                  320,000\n",
       "|    └─InvertedResidual: 2-18                 --\n",
       "|    |    └─Sequential: 3-20                  473,920\n",
       "|    └─ConvNormActivation: 2-19               --\n",
       "|    |    └─Conv2d: 3-21                      409,600\n",
       "|    |    └─BatchNorm2d: 3-22                 2,560\n",
       "|    |    └─ReLU6: 3-23                       --\n",
       "├─Sequential: 1-2                             --\n",
       "|    └─Dropout: 2-20                          --\n",
       "|    └─Linear: 2-21                           1,281,000\n",
       "├─Linear: 1-3                                 8,196\n",
       "======================================================================\n",
       "Total params: 3,513,068\n",
       "Trainable params: 3,513,068\n",
       "Non-trainable params: 0\n",
       "======================================================================"
      ]
     },
     "execution_count": 99,
     "metadata": {},
     "output_type": "execute_result"
    }
   ],
   "source": [
    "from torchsummary import  summary\n",
    "model.to(device)# move the model to GPU\n",
    "summary(model,input_size=(3,224,224))"
   ]
  },
  {
   "cell_type": "code",
   "execution_count": 100,
   "metadata": {},
   "outputs": [],
   "source": [
    "class ModelTrainer():\n",
    "    \n",
    "    def __init__(self,criterion = None,optimizer = None,schedular = None):\n",
    "        \n",
    "        self.criterion = criterion\n",
    "        self.optimizer = optimizer\n",
    "        self.schedular = schedular \n",
    "\n",
    "    \n",
    "    \n",
    "    def train_batch_loop(self,model,trainloader):\n",
    "        \n",
    "        train_loss = 0.0\n",
    "        train_acc = 0.0\n",
    "        \n",
    "        for images,labels in tqdm(trainloader): \n",
    "            \n",
    "            # move the data to CPU\n",
    "            images = images.to(device)\n",
    "            labels = labels.to(device)\n",
    "            \n",
    "            outputs = model(images)\n",
    "            loss = self.criterion(outputs,labels)\n",
    "            \n",
    "            self.optimizer.zero_grad()\n",
    "            loss.backward()\n",
    "            self.optimizer.step()\n",
    "            \n",
    "            train_loss += loss.item()\n",
    "            train_acc += accuracy(outputs,labels)\n",
    "            \n",
    "        return train_loss / len(trainloader), train_acc / len(trainloader) \n",
    "\n",
    "    \n",
    "    def valid_batch_loop(self,model,validloader):\n",
    "        \n",
    "        valid_loss = 0.0\n",
    "        valid_acc = 0.0\n",
    "        \n",
    "        for images,labels in tqdm(validloader):\n",
    "            \n",
    "            # move the data to CPU\n",
    "            images = images.to(device) \n",
    "            labels = labels.to(device)\n",
    "            \n",
    "            outputs = model(images)\n",
    "            loss = self.criterion(outputs,labels)\n",
    "            \n",
    "            valid_loss += loss.item()\n",
    "            valid_acc += accuracy(outputs,labels)\n",
    "            \n",
    "        return valid_loss / len(validloader), valid_acc / len(validloader)\n",
    "            \n",
    "        \n",
    "    def fit(self,model,trainloader,validloader,epochs):\n",
    "        \n",
    "        valid_min_loss = np.Inf \n",
    "        \n",
    "        for i in range(epochs):\n",
    "            \n",
    "            model.train() \n",
    "            avg_train_loss, avg_train_acc = self.train_batch_loop(model,trainloader) \n",
    "            \n",
    "            model.eval()  \n",
    "            avg_valid_loss, avg_valid_acc = self.valid_batch_loop(model,validloader) \n",
    "            \n",
    "            if avg_valid_loss <= valid_min_loss :\n",
    "                print(\"Valid_loss decreased {} --> {}\".format(valid_min_loss,avg_valid_loss))\n",
    "                torch.save(model.state_dict(),'cultural_mobile_v2.pt')\n",
    "                valid_min_loss = avg_valid_loss\n",
    "\n",
    "                \n",
    "            print(\"Epoch : {} Train Loss : {:.6f} Train Acc : {:.6f}\".format(i+1, avg_train_loss, avg_train_acc))\n",
    "            print(\"Epoch : {} Valid Loss : {:.6f} Valid Acc : {:.6f}\".format(i+1, avg_valid_loss, avg_valid_acc))\n"
   ]
  },
  {
   "cell_type": "code",
   "execution_count": 101,
   "metadata": {},
   "outputs": [
    {
     "data": {
      "application/vnd.jupyter.widget-view+json": {
       "model_id": "075befe6ec3c407a84e1abf1500ba0d5",
       "version_major": 2,
       "version_minor": 0
      },
      "text/plain": [
       "  0%|          | 0/1 [00:00<?, ?it/s]"
      ]
     },
     "metadata": {},
     "output_type": "display_data"
    },
    {
     "data": {
      "application/vnd.jupyter.widget-view+json": {
       "model_id": "dad57dcbf79d477a833aed8d20844a50",
       "version_major": 2,
       "version_minor": 0
      },
      "text/plain": [
       "  0%|          | 0/1 [00:00<?, ?it/s]"
      ]
     },
     "metadata": {},
     "output_type": "display_data"
    },
    {
     "name": "stdout",
     "output_type": "stream",
     "text": [
      "Valid_loss decreased inf --> 3.7065961360931396\n",
      "Epoch : 1 Train Loss : 12.341516 Train Acc : 0.000000\n",
      "Epoch : 1 Valid Loss : 3.706596 Valid Acc : 0.422222\n"
     ]
    },
    {
     "data": {
      "application/vnd.jupyter.widget-view+json": {
       "model_id": "56e9d39f16c34041991cc611df6d8888",
       "version_major": 2,
       "version_minor": 0
      },
      "text/plain": [
       "  0%|          | 0/1 [00:00<?, ?it/s]"
      ]
     },
     "metadata": {},
     "output_type": "display_data"
    },
    {
     "data": {
      "application/vnd.jupyter.widget-view+json": {
       "model_id": "4ca9c66e8db6411da036c2db4a336fce",
       "version_major": 2,
       "version_minor": 0
      },
      "text/plain": [
       "  0%|          | 0/1 [00:00<?, ?it/s]"
      ]
     },
     "metadata": {},
     "output_type": "display_data"
    },
    {
     "name": "stdout",
     "output_type": "stream",
     "text": [
      "Epoch : 2 Train Loss : 1.407088 Train Acc : 0.766667\n",
      "Epoch : 2 Valid Loss : 3.816017 Valid Acc : 0.555556\n"
     ]
    },
    {
     "data": {
      "application/vnd.jupyter.widget-view+json": {
       "model_id": "14a83d00267848e58b0a38ab6a60cb3d",
       "version_major": 2,
       "version_minor": 0
      },
      "text/plain": [
       "  0%|          | 0/1 [00:00<?, ?it/s]"
      ]
     },
     "metadata": {},
     "output_type": "display_data"
    },
    {
     "data": {
      "application/vnd.jupyter.widget-view+json": {
       "model_id": "7f8e51beb00042caa66de3b737f9203d",
       "version_major": 2,
       "version_minor": 0
      },
      "text/plain": [
       "  0%|          | 0/1 [00:00<?, ?it/s]"
      ]
     },
     "metadata": {},
     "output_type": "display_data"
    },
    {
     "name": "stdout",
     "output_type": "stream",
     "text": [
      "Epoch : 3 Train Loss : 0.207093 Train Acc : 1.000000\n",
      "Epoch : 3 Valid Loss : 5.125199 Valid Acc : 0.644444\n"
     ]
    },
    {
     "data": {
      "application/vnd.jupyter.widget-view+json": {
       "model_id": "60e08428c10e4836abdf9f631f842b5b",
       "version_major": 2,
       "version_minor": 0
      },
      "text/plain": [
       "  0%|          | 0/1 [00:00<?, ?it/s]"
      ]
     },
     "metadata": {},
     "output_type": "display_data"
    },
    {
     "data": {
      "application/vnd.jupyter.widget-view+json": {
       "model_id": "d07ddca70eae4fbb863b96259da43a7f",
       "version_major": 2,
       "version_minor": 0
      },
      "text/plain": [
       "  0%|          | 0/1 [00:00<?, ?it/s]"
      ]
     },
     "metadata": {},
     "output_type": "display_data"
    },
    {
     "name": "stdout",
     "output_type": "stream",
     "text": [
      "Epoch : 4 Train Loss : 0.010318 Train Acc : 1.000000\n",
      "Epoch : 4 Valid Loss : 8.188529 Valid Acc : 0.533333\n"
     ]
    },
    {
     "data": {
      "application/vnd.jupyter.widget-view+json": {
       "model_id": "4625314855004bdea833f34a0b449487",
       "version_major": 2,
       "version_minor": 0
      },
      "text/plain": [
       "  0%|          | 0/1 [00:00<?, ?it/s]"
      ]
     },
     "metadata": {},
     "output_type": "display_data"
    },
    {
     "data": {
      "application/vnd.jupyter.widget-view+json": {
       "model_id": "f179b1b3e9ac471892aed1b28e51d483",
       "version_major": 2,
       "version_minor": 0
      },
      "text/plain": [
       "  0%|          | 0/1 [00:00<?, ?it/s]"
      ]
     },
     "metadata": {},
     "output_type": "display_data"
    },
    {
     "name": "stdout",
     "output_type": "stream",
     "text": [
      "Epoch : 5 Train Loss : 0.002320 Train Acc : 1.000000\n",
      "Epoch : 5 Valid Loss : 11.817149 Valid Acc : 0.466667\n"
     ]
    },
    {
     "data": {
      "application/vnd.jupyter.widget-view+json": {
       "model_id": "10f68adf5a7641c3b712d78add2533a1",
       "version_major": 2,
       "version_minor": 0
      },
      "text/plain": [
       "  0%|          | 0/1 [00:00<?, ?it/s]"
      ]
     },
     "metadata": {},
     "output_type": "display_data"
    },
    {
     "data": {
      "application/vnd.jupyter.widget-view+json": {
       "model_id": "cce49eb70f13477caddbc56c9d15d825",
       "version_major": 2,
       "version_minor": 0
      },
      "text/plain": [
       "  0%|          | 0/1 [00:00<?, ?it/s]"
      ]
     },
     "metadata": {},
     "output_type": "display_data"
    },
    {
     "name": "stdout",
     "output_type": "stream",
     "text": [
      "Epoch : 6 Train Loss : 0.001352 Train Acc : 1.000000\n",
      "Epoch : 6 Valid Loss : 14.784633 Valid Acc : 0.466667\n"
     ]
    },
    {
     "data": {
      "application/vnd.jupyter.widget-view+json": {
       "model_id": "ccb6a030a9e3429e89a63e2c39fd4899",
       "version_major": 2,
       "version_minor": 0
      },
      "text/plain": [
       "  0%|          | 0/1 [00:00<?, ?it/s]"
      ]
     },
     "metadata": {},
     "output_type": "display_data"
    },
    {
     "data": {
      "application/vnd.jupyter.widget-view+json": {
       "model_id": "32ab811c72ed49cba10dd91c77c40581",
       "version_major": 2,
       "version_minor": 0
      },
      "text/plain": [
       "  0%|          | 0/1 [00:00<?, ?it/s]"
      ]
     },
     "metadata": {},
     "output_type": "display_data"
    },
    {
     "name": "stdout",
     "output_type": "stream",
     "text": [
      "Epoch : 7 Train Loss : 0.001279 Train Acc : 1.000000\n",
      "Epoch : 7 Valid Loss : 16.454803 Valid Acc : 0.466667\n"
     ]
    },
    {
     "data": {
      "application/vnd.jupyter.widget-view+json": {
       "model_id": "9978bdb0a9c64b05a459c9c00f1786cd",
       "version_major": 2,
       "version_minor": 0
      },
      "text/plain": [
       "  0%|          | 0/1 [00:00<?, ?it/s]"
      ]
     },
     "metadata": {},
     "output_type": "display_data"
    },
    {
     "data": {
      "application/vnd.jupyter.widget-view+json": {
       "model_id": "2d979f54997f41df8c7f01a6f65196d4",
       "version_major": 2,
       "version_minor": 0
      },
      "text/plain": [
       "  0%|          | 0/1 [00:00<?, ?it/s]"
      ]
     },
     "metadata": {},
     "output_type": "display_data"
    },
    {
     "name": "stdout",
     "output_type": "stream",
     "text": [
      "Epoch : 8 Train Loss : 0.001294 Train Acc : 1.000000\n",
      "Epoch : 8 Valid Loss : 16.873945 Valid Acc : 0.422222\n"
     ]
    },
    {
     "data": {
      "application/vnd.jupyter.widget-view+json": {
       "model_id": "8d12e8ac82f6493d81d40c89efea22db",
       "version_major": 2,
       "version_minor": 0
      },
      "text/plain": [
       "  0%|          | 0/1 [00:00<?, ?it/s]"
      ]
     },
     "metadata": {},
     "output_type": "display_data"
    },
    {
     "data": {
      "application/vnd.jupyter.widget-view+json": {
       "model_id": "415028c445e04b03beea9f29970f25e5",
       "version_major": 2,
       "version_minor": 0
      },
      "text/plain": [
       "  0%|          | 0/1 [00:00<?, ?it/s]"
      ]
     },
     "metadata": {},
     "output_type": "display_data"
    },
    {
     "name": "stdout",
     "output_type": "stream",
     "text": [
      "Epoch : 9 Train Loss : 0.001156 Train Acc : 1.000000\n",
      "Epoch : 9 Valid Loss : 16.312569 Valid Acc : 0.444444\n"
     ]
    },
    {
     "data": {
      "application/vnd.jupyter.widget-view+json": {
       "model_id": "f4005f69085c4beea24e246dd96c1742",
       "version_major": 2,
       "version_minor": 0
      },
      "text/plain": [
       "  0%|          | 0/1 [00:00<?, ?it/s]"
      ]
     },
     "metadata": {},
     "output_type": "display_data"
    },
    {
     "data": {
      "application/vnd.jupyter.widget-view+json": {
       "model_id": "584cb5f116ad4b36b263814d4f3fdd93",
       "version_major": 2,
       "version_minor": 0
      },
      "text/plain": [
       "  0%|          | 0/1 [00:00<?, ?it/s]"
      ]
     },
     "metadata": {},
     "output_type": "display_data"
    },
    {
     "name": "stdout",
     "output_type": "stream",
     "text": [
      "Epoch : 10 Train Loss : 0.000467 Train Acc : 1.000000\n",
      "Epoch : 10 Valid Loss : 15.154221 Valid Acc : 0.444444\n"
     ]
    },
    {
     "data": {
      "application/vnd.jupyter.widget-view+json": {
       "model_id": "41663448b4834432bfefb48608e8fb89",
       "version_major": 2,
       "version_minor": 0
      },
      "text/plain": [
       "  0%|          | 0/1 [00:00<?, ?it/s]"
      ]
     },
     "metadata": {},
     "output_type": "display_data"
    },
    {
     "data": {
      "application/vnd.jupyter.widget-view+json": {
       "model_id": "08dd7d60052f4ba28739fbff3e1c74e0",
       "version_major": 2,
       "version_minor": 0
      },
      "text/plain": [
       "  0%|          | 0/1 [00:00<?, ?it/s]"
      ]
     },
     "metadata": {},
     "output_type": "display_data"
    },
    {
     "name": "stdout",
     "output_type": "stream",
     "text": [
      "Epoch : 11 Train Loss : 0.000308 Train Acc : 1.000000\n",
      "Epoch : 11 Valid Loss : 13.637525 Valid Acc : 0.466667\n"
     ]
    },
    {
     "data": {
      "application/vnd.jupyter.widget-view+json": {
       "model_id": "bf9c635b304a4e299a13c68303bbc8e5",
       "version_major": 2,
       "version_minor": 0
      },
      "text/plain": [
       "  0%|          | 0/1 [00:00<?, ?it/s]"
      ]
     },
     "metadata": {},
     "output_type": "display_data"
    },
    {
     "data": {
      "application/vnd.jupyter.widget-view+json": {
       "model_id": "803fdccc96b24a8c93828d67988aaae6",
       "version_major": 2,
       "version_minor": 0
      },
      "text/plain": [
       "  0%|          | 0/1 [00:00<?, ?it/s]"
      ]
     },
     "metadata": {},
     "output_type": "display_data"
    },
    {
     "name": "stdout",
     "output_type": "stream",
     "text": [
      "Epoch : 12 Train Loss : 0.000192 Train Acc : 1.000000\n",
      "Epoch : 12 Valid Loss : 11.942181 Valid Acc : 0.488889\n"
     ]
    },
    {
     "data": {
      "application/vnd.jupyter.widget-view+json": {
       "model_id": "d9d15bec40f74fa686820974aebcb2ac",
       "version_major": 2,
       "version_minor": 0
      },
      "text/plain": [
       "  0%|          | 0/1 [00:00<?, ?it/s]"
      ]
     },
     "metadata": {},
     "output_type": "display_data"
    },
    {
     "data": {
      "application/vnd.jupyter.widget-view+json": {
       "model_id": "d83666fbf8054a1f90134b70452b0f87",
       "version_major": 2,
       "version_minor": 0
      },
      "text/plain": [
       "  0%|          | 0/1 [00:00<?, ?it/s]"
      ]
     },
     "metadata": {},
     "output_type": "display_data"
    },
    {
     "name": "stdout",
     "output_type": "stream",
     "text": [
      "Epoch : 13 Train Loss : 0.000115 Train Acc : 1.000000\n",
      "Epoch : 13 Valid Loss : 10.154927 Valid Acc : 0.511111\n"
     ]
    },
    {
     "data": {
      "application/vnd.jupyter.widget-view+json": {
       "model_id": "3d070c061195483997da19d153889f80",
       "version_major": 2,
       "version_minor": 0
      },
      "text/plain": [
       "  0%|          | 0/1 [00:00<?, ?it/s]"
      ]
     },
     "metadata": {},
     "output_type": "display_data"
    },
    {
     "data": {
      "application/vnd.jupyter.widget-view+json": {
       "model_id": "f7a6cb15e79e470783b46f3f8b2081ba",
       "version_major": 2,
       "version_minor": 0
      },
      "text/plain": [
       "  0%|          | 0/1 [00:00<?, ?it/s]"
      ]
     },
     "metadata": {},
     "output_type": "display_data"
    },
    {
     "name": "stdout",
     "output_type": "stream",
     "text": [
      "Epoch : 14 Train Loss : 0.000063 Train Acc : 1.000000\n",
      "Epoch : 14 Valid Loss : 8.376121 Valid Acc : 0.533333\n"
     ]
    },
    {
     "data": {
      "application/vnd.jupyter.widget-view+json": {
       "model_id": "aa9d8a7d840e42dc8278d0f5ae844077",
       "version_major": 2,
       "version_minor": 0
      },
      "text/plain": [
       "  0%|          | 0/1 [00:00<?, ?it/s]"
      ]
     },
     "metadata": {},
     "output_type": "display_data"
    },
    {
     "data": {
      "application/vnd.jupyter.widget-view+json": {
       "model_id": "188bb981b73a487c97272ff38107859d",
       "version_major": 2,
       "version_minor": 0
      },
      "text/plain": [
       "  0%|          | 0/1 [00:00<?, ?it/s]"
      ]
     },
     "metadata": {},
     "output_type": "display_data"
    },
    {
     "name": "stdout",
     "output_type": "stream",
     "text": [
      "Epoch : 15 Train Loss : 0.000065 Train Acc : 1.000000\n",
      "Epoch : 15 Valid Loss : 6.707705 Valid Acc : 0.577778\n"
     ]
    },
    {
     "data": {
      "application/vnd.jupyter.widget-view+json": {
       "model_id": "0721e735c7074ce6a3d775c62c721b16",
       "version_major": 2,
       "version_minor": 0
      },
      "text/plain": [
       "  0%|          | 0/1 [00:00<?, ?it/s]"
      ]
     },
     "metadata": {},
     "output_type": "display_data"
    },
    {
     "data": {
      "application/vnd.jupyter.widget-view+json": {
       "model_id": "f17e73faa77c46dca05f4c4c1aa265d9",
       "version_major": 2,
       "version_minor": 0
      },
      "text/plain": [
       "  0%|          | 0/1 [00:00<?, ?it/s]"
      ]
     },
     "metadata": {},
     "output_type": "display_data"
    },
    {
     "name": "stdout",
     "output_type": "stream",
     "text": [
      "Epoch : 16 Train Loss : 0.000044 Train Acc : 1.000000\n",
      "Epoch : 16 Valid Loss : 5.169224 Valid Acc : 0.600000\n"
     ]
    },
    {
     "data": {
      "application/vnd.jupyter.widget-view+json": {
       "model_id": "99406e9474694c92a453e92f663e067f",
       "version_major": 2,
       "version_minor": 0
      },
      "text/plain": [
       "  0%|          | 0/1 [00:00<?, ?it/s]"
      ]
     },
     "metadata": {},
     "output_type": "display_data"
    },
    {
     "data": {
      "application/vnd.jupyter.widget-view+json": {
       "model_id": "9b7e454d2c0d4e1cb617d0e3747c7387",
       "version_major": 2,
       "version_minor": 0
      },
      "text/plain": [
       "  0%|          | 0/1 [00:00<?, ?it/s]"
      ]
     },
     "metadata": {},
     "output_type": "display_data"
    },
    {
     "name": "stdout",
     "output_type": "stream",
     "text": [
      "Epoch : 17 Train Loss : 0.000025 Train Acc : 1.000000\n",
      "Epoch : 17 Valid Loss : 3.881509 Valid Acc : 0.711111\n"
     ]
    },
    {
     "data": {
      "application/vnd.jupyter.widget-view+json": {
       "model_id": "56a44b7eb6864c12a2dcc7a476bf7243",
       "version_major": 2,
       "version_minor": 0
      },
      "text/plain": [
       "  0%|          | 0/1 [00:00<?, ?it/s]"
      ]
     },
     "metadata": {},
     "output_type": "display_data"
    },
    {
     "data": {
      "application/vnd.jupyter.widget-view+json": {
       "model_id": "e0742dfd8e81477caa83d13913baf908",
       "version_major": 2,
       "version_minor": 0
      },
      "text/plain": [
       "  0%|          | 0/1 [00:00<?, ?it/s]"
      ]
     },
     "metadata": {},
     "output_type": "display_data"
    },
    {
     "name": "stdout",
     "output_type": "stream",
     "text": [
      "Valid_loss decreased 3.7065961360931396 --> 2.835822820663452\n",
      "Epoch : 18 Train Loss : 0.000038 Train Acc : 1.000000\n",
      "Epoch : 18 Valid Loss : 2.835823 Valid Acc : 0.755556\n"
     ]
    },
    {
     "data": {
      "application/vnd.jupyter.widget-view+json": {
       "model_id": "7d383b48c3ba4b5aa36a62de743c054c",
       "version_major": 2,
       "version_minor": 0
      },
      "text/plain": [
       "  0%|          | 0/1 [00:00<?, ?it/s]"
      ]
     },
     "metadata": {},
     "output_type": "display_data"
    },
    {
     "data": {
      "application/vnd.jupyter.widget-view+json": {
       "model_id": "9bc5489c44f742979ae8c55a5ecd78bf",
       "version_major": 2,
       "version_minor": 0
      },
      "text/plain": [
       "  0%|          | 0/1 [00:00<?, ?it/s]"
      ]
     },
     "metadata": {},
     "output_type": "display_data"
    },
    {
     "name": "stdout",
     "output_type": "stream",
     "text": [
      "Valid_loss decreased 2.835822820663452 --> 1.9815319776535034\n",
      "Epoch : 19 Train Loss : 0.000039 Train Acc : 1.000000\n",
      "Epoch : 19 Valid Loss : 1.981532 Valid Acc : 0.777778\n"
     ]
    },
    {
     "data": {
      "application/vnd.jupyter.widget-view+json": {
       "model_id": "337dd1d4b2ea47329f26e0a9a0db8db1",
       "version_major": 2,
       "version_minor": 0
      },
      "text/plain": [
       "  0%|          | 0/1 [00:00<?, ?it/s]"
      ]
     },
     "metadata": {},
     "output_type": "display_data"
    },
    {
     "data": {
      "application/vnd.jupyter.widget-view+json": {
       "model_id": "c0094a29d9cf468ea5ca62dbdc37131e",
       "version_major": 2,
       "version_minor": 0
      },
      "text/plain": [
       "  0%|          | 0/1 [00:00<?, ?it/s]"
      ]
     },
     "metadata": {},
     "output_type": "display_data"
    },
    {
     "name": "stdout",
     "output_type": "stream",
     "text": [
      "Valid_loss decreased 1.9815319776535034 --> 1.3738430738449097\n",
      "Epoch : 20 Train Loss : 0.000055 Train Acc : 1.000000\n",
      "Epoch : 20 Valid Loss : 1.373843 Valid Acc : 0.866667\n"
     ]
    },
    {
     "data": {
      "application/vnd.jupyter.widget-view+json": {
       "model_id": "6c6611a32d914f179b0486f46f85c11a",
       "version_major": 2,
       "version_minor": 0
      },
      "text/plain": [
       "  0%|          | 0/1 [00:00<?, ?it/s]"
      ]
     },
     "metadata": {},
     "output_type": "display_data"
    },
    {
     "data": {
      "application/vnd.jupyter.widget-view+json": {
       "model_id": "b9d940e9e7d44cdabcc3975efd17e0ae",
       "version_major": 2,
       "version_minor": 0
      },
      "text/plain": [
       "  0%|          | 0/1 [00:00<?, ?it/s]"
      ]
     },
     "metadata": {},
     "output_type": "display_data"
    },
    {
     "name": "stdout",
     "output_type": "stream",
     "text": [
      "Valid_loss decreased 1.3738430738449097 --> 0.913422167301178\n",
      "Epoch : 21 Train Loss : 0.000043 Train Acc : 1.000000\n",
      "Epoch : 21 Valid Loss : 0.913422 Valid Acc : 0.888889\n"
     ]
    },
    {
     "data": {
      "application/vnd.jupyter.widget-view+json": {
       "model_id": "c25a9d1840ca41478df517716a0575cd",
       "version_major": 2,
       "version_minor": 0
      },
      "text/plain": [
       "  0%|          | 0/1 [00:00<?, ?it/s]"
      ]
     },
     "metadata": {},
     "output_type": "display_data"
    },
    {
     "data": {
      "application/vnd.jupyter.widget-view+json": {
       "model_id": "bcdfe7660b484d5f96d40566bd419ba2",
       "version_major": 2,
       "version_minor": 0
      },
      "text/plain": [
       "  0%|          | 0/1 [00:00<?, ?it/s]"
      ]
     },
     "metadata": {},
     "output_type": "display_data"
    },
    {
     "name": "stdout",
     "output_type": "stream",
     "text": [
      "Valid_loss decreased 0.913422167301178 --> 0.571869969367981\n",
      "Epoch : 22 Train Loss : 0.000036 Train Acc : 1.000000\n",
      "Epoch : 22 Valid Loss : 0.571870 Valid Acc : 0.933333\n"
     ]
    },
    {
     "data": {
      "application/vnd.jupyter.widget-view+json": {
       "model_id": "10948de697d74a77a97496862309e644",
       "version_major": 2,
       "version_minor": 0
      },
      "text/plain": [
       "  0%|          | 0/1 [00:00<?, ?it/s]"
      ]
     },
     "metadata": {},
     "output_type": "display_data"
    },
    {
     "data": {
      "application/vnd.jupyter.widget-view+json": {
       "model_id": "f0691ddd4c3c484c82a9df94ccb36bb0",
       "version_major": 2,
       "version_minor": 0
      },
      "text/plain": [
       "  0%|          | 0/1 [00:00<?, ?it/s]"
      ]
     },
     "metadata": {},
     "output_type": "display_data"
    },
    {
     "name": "stdout",
     "output_type": "stream",
     "text": [
      "Valid_loss decreased 0.571869969367981 --> 0.36962610483169556\n",
      "Epoch : 23 Train Loss : 0.000027 Train Acc : 1.000000\n",
      "Epoch : 23 Valid Loss : 0.369626 Valid Acc : 0.933333\n"
     ]
    },
    {
     "data": {
      "application/vnd.jupyter.widget-view+json": {
       "model_id": "698738f350cd42afac3a10b70e01c97c",
       "version_major": 2,
       "version_minor": 0
      },
      "text/plain": [
       "  0%|          | 0/1 [00:00<?, ?it/s]"
      ]
     },
     "metadata": {},
     "output_type": "display_data"
    },
    {
     "data": {
      "application/vnd.jupyter.widget-view+json": {
       "model_id": "f8a13b9d3f7e4506a2c2a9d1a17991fa",
       "version_major": 2,
       "version_minor": 0
      },
      "text/plain": [
       "  0%|          | 0/1 [00:00<?, ?it/s]"
      ]
     },
     "metadata": {},
     "output_type": "display_data"
    },
    {
     "name": "stdout",
     "output_type": "stream",
     "text": [
      "Valid_loss decreased 0.36962610483169556 --> 0.256233274936676\n",
      "Epoch : 24 Train Loss : 0.000042 Train Acc : 1.000000\n",
      "Epoch : 24 Valid Loss : 0.256233 Valid Acc : 0.977778\n"
     ]
    },
    {
     "data": {
      "application/vnd.jupyter.widget-view+json": {
       "model_id": "b470dd4ccb04473e8f4a5185ba112379",
       "version_major": 2,
       "version_minor": 0
      },
      "text/plain": [
       "  0%|          | 0/1 [00:00<?, ?it/s]"
      ]
     },
     "metadata": {},
     "output_type": "display_data"
    },
    {
     "data": {
      "application/vnd.jupyter.widget-view+json": {
       "model_id": "e7926a44d8b7421d8bf2c8105de371eb",
       "version_major": 2,
       "version_minor": 0
      },
      "text/plain": [
       "  0%|          | 0/1 [00:00<?, ?it/s]"
      ]
     },
     "metadata": {},
     "output_type": "display_data"
    },
    {
     "name": "stdout",
     "output_type": "stream",
     "text": [
      "Valid_loss decreased 0.256233274936676 --> 0.19790758192539215\n",
      "Epoch : 25 Train Loss : 0.000050 Train Acc : 1.000000\n",
      "Epoch : 25 Valid Loss : 0.197908 Valid Acc : 0.977778\n"
     ]
    }
   ],
   "source": [
    "criterion = nn.CrossEntropyLoss()\n",
    "optimizer = torch.optim.Adam(model.parameters(),lr = CNFG.lr)\n",
    "\n",
    "trainer = ModelTrainer(criterion,optimizer)\n",
    "trainer.fit(model,trainloader,validationloader,epochs = 25)"
   ]
  },
  {
   "cell_type": "code",
   "execution_count": 104,
   "metadata": {},
   "outputs": [],
   "source": [
    "torch.save(model.state_dict(),'culture_mobile_V2.pt')"
   ]
  },
  {
   "cell_type": "code",
   "execution_count": 106,
   "metadata": {},
   "outputs": [
    {
     "data": {
      "application/vnd.jupyter.widget-view+json": {
       "model_id": "b8c8beae01d6480daebe9bf3871c586c",
       "version_major": 2,
       "version_minor": 0
      },
      "text/plain": [
       "  0%|          | 0/1 [00:00<?, ?it/s]"
      ]
     },
     "metadata": {},
     "output_type": "display_data"
    },
    {
     "name": "stdout",
     "output_type": "stream",
     "text": [
      "Test Loss : 2.689368 Test Acc : 0.733333\n"
     ]
    }
   ],
   "source": [
    "# test predictions\n",
    "# load torch model \n",
    "# model.load_state_dict(torch.load('ocean_19_15.pt'))\n",
    "model.load_state_dict(torch.load('culture_mobile_V2.pt'))\n",
    "model.eval()\n",
    "test_loss = 0.0\n",
    "test_acc = 0.0\n",
    "for images,labels in tqdm(testloader):\n",
    "        \n",
    "        # move the data to CPU\n",
    "        images = images.to(device) \n",
    "        labels = labels.to(device)\n",
    "        \n",
    "        outputs = model(images)\n",
    "        loss = criterion(outputs,labels)\n",
    "        \n",
    "        test_loss += loss.item()\n",
    "        test_acc += accuracy(outputs,labels)\n",
    "\n",
    "print(\"Test Loss : {:.6f} Test Acc : {:.6f}\".format(test_loss / len(testloader), test_acc / len(testloader)))"
   ]
  },
  {
   "cell_type": "markdown",
   "metadata": {},
   "source": [
    "## Make predictions"
   ]
  },
  {
   "cell_type": "code",
   "execution_count": 107,
   "metadata": {},
   "outputs": [],
   "source": [
    "from PIL import Image \n",
    "import matplotlib.pyplot as plt\n",
    "import numpy as np\n",
    "import cv2\n",
    "import torch.nn.functional as F \n",
    "import torch\n",
    "from torchvision.datasets import ImageFolder\n",
    "from torch.utils.data import DataLoader \n",
    "from torchvision import transforms as T,datasets  \n",
    "from torchvision.models import alexnet\n",
    "from torch import nn\n",
    "\n",
    "\n",
    "data_transform = T.Compose([\n",
    "                             T.Resize(size=(224,224)), # Resizing the image to be 224 by 224\n",
    "                            #  T.RandomRotation(degrees=(-20,+20)), #Randomly Rotate Images by +/- 20 degrees, Image argumentation for each epoch\n",
    "                             T.ToTensor(), #converting the dimension from (height,weight,channel) to (channel,height,weight) convention of PyTorch\n",
    "                             T.Normalize([0.485,0.456,0.406],[0.229,0.224,0.225]) # Normalize by 3 means 3 StD's of the image net, 3 channels\n",
    "\n",
    "]) \n",
    "\n",
    "class_map = [ \n",
    "    \"arabic\",\n",
    "    \"chinese\", \n",
    "    \"indian\", \n",
    "    \"japanese\"\n",
    "]\n",
    "\n",
    "def imshow(img):\n",
    "    npimg = img.numpy()\n",
    "    plt.imshow(np.transpose(npimg, (1, 2, 0)))\n",
    "    plt.show()\n",
    "\n",
    "# def predict_image(image_path,model):\n",
    "#     image = Image.open(image_path)\n",
    "#     image = data_transform(image)\n",
    "#     image = image.unsqueeze(0)\n",
    "#     image = image.to(device)\n",
    "#     model.eval()\n",
    "#     output = model(image)\n",
    "#     output = F.softmax(output,dim = 1)\n",
    "#     top_p,top_class = output.topk(1,dim = 1)\n",
    "#     return top_class\n",
    "\n",
    "# def predict_image_class(image_path,model):\n",
    "#     image = Image.open(image_path)\n",
    "#     image = data_transform(image)\n",
    "#     image = image.unsqueeze(0)\n",
    "#     image = image.to(device)\n",
    "#     model.eval()\n",
    "#     output = model(image)\n",
    "#     output = F.softmax(output,dim = 1)\n",
    "#     top_p,top_class = output.topk(1,dim = 1)\n",
    "#     return top_class.item()\n",
    "\n",
    "def predict_image_class_name(image_path,model): \n",
    "    \n",
    "    # show image \n",
    "    imshow(data_transform(Image.open(image_path)))\n",
    "\n",
    "    image = Image.open(image_path)\n",
    "    image = data_transform(image)\n",
    "    image = image.unsqueeze(0)\n",
    "    image = image.to(device) \n",
    "    output = model(image)\n",
    "    output = F.softmax(output,dim = 1)\n",
    "    print(\"soft\" , output)\n",
    "    top_p,top_class = output.topk(1,dim = 1) \n",
    "    print( top_p , top_class)\n",
    "    # return \"Predicted :\", train_data.dataset.classes[top_class.item()]\n",
    "    return \"Predicted :\", class_map[top_class.item()]\n",
    "\n",
    "# device \n",
    "device = torch.device(\"cpu\" if torch.cuda.is_available() else \"cpu\") \n",
    "\n",
    "# make realtime predictions \n",
    "model = mobilenet_v2(pretrained=True) #load pretrained model \n",
    "model.fc = nn.Linear(in_features=2048,out_features = 4, bias=True) \n",
    "model.load_state_dict(torch.load('culture_mobile_V2.pt')) # load the model\n",
    "model.to(device) \n",
    "\n",
    "def predict_img(image): \n",
    "\n",
    "    INPUT_DIM = 224 \n",
    "    preprocess = T.Compose([\n",
    "            T.Resize(INPUT_DIM ),\n",
    "            # T.CenterCrop(224),\n",
    "            T.ToTensor(),\n",
    "            T.Normalize(\n",
    "            mean=[0.485, 0.456, 0.406],\n",
    "            std=[0.229, 0.224, 0.225]\n",
    "        )])\n",
    "\n",
    "    imshow(preprocess(Image.open(image)))\n",
    "\n",
    "    im = Image.open(image)\n",
    "    im_preprocessed = preprocess(im) \n",
    "    batch_img_tensor = torch.unsqueeze(im_preprocessed, 0)\n",
    "    output = model(batch_img_tensor) \n",
    "    confidence = F.softmax(output, dim=1)[0] * 100 \n",
    "    _, indices = torch.sort(output, descending=True) \n",
    "    return [(class_map[idx], confidence[idx].item()) for idx in indices[0][:1]]\n"
   ]
  },
  {
   "cell_type": "code",
   "execution_count": 137,
   "metadata": {},
   "outputs": [
    {
     "name": "stderr",
     "output_type": "stream",
     "text": [
      "Clipping input data to the valid range for imshow with RGB data ([0..1] for floats or [0..255] for integers).\n"
     ]
    },
    {
     "data": {
      "image/png": "[encoded data removed]",
      "text/plain": [
       "<Figure size 432x288 with 1 Axes>"
      ]
     },
     "metadata": {
      "needs_background": "light"
     },
     "output_type": "display_data"
    },
    {
     "data": {
      "text/plain": [
       "[('indian', 56.360774993896484)]"
      ]
     },
     "execution_count": 137,
     "metadata": {},
     "output_type": "execute_result"
    }
   ],
   "source": [
    "predict_img(\"arabic-test.jpg\")"
   ]
  },
  {
   "cell_type": "code",
   "execution_count": 121,
   "metadata": {},
   "outputs": [
    {
     "name": "stderr",
     "output_type": "stream",
     "text": [
      "Clipping input data to the valid range for imshow with RGB data ([0..1] for floats or [0..255] for integers).\n"
     ]
    },
    {
     "data": {
      "image/png": "[encoded data removed]",
      "text/plain": [
       "<Figure size 432x288 with 1 Axes>"
      ]
     },
     "metadata": {
      "needs_background": "light"
     },
     "output_type": "display_data"
    },
    {
     "name": "stdout",
     "output_type": "stream",
     "text": [
      "soft tensor([[1.3589e-01, 6.1116e-01, 1.0441e-01, 1.2178e-01, 6.2370e-06, 2.9071e-05,\n",
      "         7.2738e-06, 2.5215e-05, 2.0878e-05, 3.1447e-06, 2.9233e-06, 1.0425e-05,\n",
      "         8.2597e-06, 3.2710e-06, 6.6115e-06, 1.0481e-05, 3.2449e-06, 1.7022e-05,\n",
      "         3.3272e-05, 8.0065e-06, 2.7506e-06, 1.1376e-05, 3.8168e-06, 1.0402e-05,\n",
      "         4.0740e-05, 1.1531e-05, 2.6656e-05, 8.7349e-06, 2.4406e-05, 4.4219e-06,\n",
      "         5.4226e-06, 4.5204e-06, 1.0885e-05, 1.6292e-05, 2.1019e-05, 1.9300e-05,\n",
      "         9.3127e-05, 1.2092e-05, 4.1369e-05, 1.0325e-05, 8.7134e-06, 1.5146e-05,\n",
      "         5.2649e-06, 8.1483e-06, 2.9500e-06, 1.1259e-05, 4.1359e-06, 6.4288e-06,\n",
      "         4.7336e-06, 4.5207e-06, 1.4886e-05, 1.8738e-05, 1.2703e-05, 6.7235e-06,\n",
      "         7.0194e-06, 5.1675e-06, 1.1431e-05, 2.8178e-06, 2.0889e-05, 8.7628e-06,\n",
      "         2.1298e-05, 3.2340e-05, 2.3083e-05, 2.3443e-05, 1.7292e-05, 1.2953e-05,\n",
      "         2.2185e-05, 1.6300e-05, 4.9366e-06, 1.1211e-05, 4.3623e-06, 5.6128e-06,\n",
      "         3.3056e-06, 8.8809e-06, 6.3900e-06, 1.4719e-05, 6.2313e-06, 6.8193e-06,\n",
      "         1.1464e-05, 1.3923e-05, 4.9094e-06, 3.1811e-06, 1.8762e-05, 1.1641e-05,\n",
      "         1.0633e-05, 1.3436e-05, 2.5067e-05, 1.4263e-05, 4.2648e-05, 3.5318e-06,\n",
      "         5.3421e-06, 6.0153e-06, 4.1536e-06, 4.6653e-06, 2.8397e-05, 1.8044e-06,\n",
      "         7.2998e-06, 1.5383e-05, 1.6430e-06, 6.1590e-06, 2.2908e-06, 2.5750e-06,\n",
      "         3.5134e-06, 6.6972e-06, 3.1108e-06, 3.5943e-06, 1.3038e-05, 9.7677e-06,\n",
      "         7.4506e-06, 1.6609e-05, 8.3415e-06, 3.6531e-06, 4.0446e-05, 1.6339e-05,\n",
      "         1.3509e-05, 2.3544e-05, 1.2067e-05, 4.1031e-05, 1.6900e-05, 9.8684e-06,\n",
      "         4.2943e-06, 1.1032e-05, 1.7840e-05, 2.4221e-05, 6.4258e-05, 4.3277e-05,\n",
      "         9.1391e-06, 5.6441e-06, 5.7322e-06, 2.4203e-06, 3.7093e-06, 1.6651e-06,\n",
      "         7.0647e-06, 8.9489e-06, 8.5419e-06, 1.7248e-06, 5.5099e-06, 9.1304e-07,\n",
      "         3.7257e-06, 2.6022e-06, 1.2942e-06, 2.4306e-06, 5.0145e-07, 1.1107e-06,\n",
      "         3.7468e-06, 2.6064e-06, 1.2527e-06, 2.7552e-06, 4.7363e-07, 2.2403e-06,\n",
      "         1.5548e-05, 1.1882e-04, 4.0850e-06, 6.4671e-06, 1.2631e-05, 1.0146e-05,\n",
      "         2.6501e-06, 1.1475e-05, 1.1103e-05, 2.0308e-05, 8.8998e-06, 9.5851e-06,\n",
      "         1.0927e-05, 2.0364e-05, 7.3932e-06, 7.4218e-06, 4.8658e-06, 2.6468e-06,\n",
      "         4.1188e-05, 2.4775e-06, 7.2301e-06, 2.1148e-05, 7.5032e-06, 5.2974e-06,\n",
      "         1.9414e-05, 5.4500e-06, 3.7586e-06, 1.0582e-05, 2.4202e-05, 4.4429e-05,\n",
      "         1.4617e-05, 7.6476e-06, 2.2768e-05, 5.1180e-05, 1.6978e-05, 1.3340e-05,\n",
      "         1.4545e-05, 1.1929e-05, 7.2981e-06, 9.1591e-06, 2.9993e-06, 1.1644e-05,\n",
      "         1.2182e-05, 1.8445e-05, 2.4276e-06, 4.6533e-05, 1.1667e-05, 1.2036e-05,\n",
      "         8.6293e-06, 6.7664e-06, 2.7582e-05, 1.0427e-05, 8.7378e-06, 9.1301e-06,\n",
      "         1.2338e-05, 7.8188e-06, 2.6447e-05, 1.5693e-05, 4.2235e-05, 3.9111e-05,\n",
      "         1.2775e-05, 2.1448e-05, 5.4008e-05, 1.8426e-05, 1.8033e-05, 2.9572e-05,\n",
      "         4.3622e-05, 2.3332e-05, 7.5314e-06, 2.6848e-05, 3.1374e-05, 3.2906e-05,\n",
      "         1.0049e-05, 1.5908e-05, 1.0450e-05, 3.2986e-05, 1.8906e-05, 2.9250e-05,\n",
      "         4.2864e-06, 6.4206e-06, 6.9593e-06, 9.6296e-06, 1.4861e-05, 2.4062e-05,\n",
      "         2.9196e-05, 2.0871e-05, 1.4285e-05, 2.0260e-05, 4.5960e-05, 8.3839e-06,\n",
      "         1.9795e-05, 7.8525e-06, 1.3802e-05, 3.8699e-05, 6.9985e-06, 2.5530e-05,\n",
      "         2.4680e-05, 5.8446e-06, 9.8389e-06, 1.1174e-05, 9.6723e-06, 1.3936e-05,\n",
      "         6.5671e-06, 2.0387e-05, 6.2588e-05, 9.2031e-06, 7.0500e-06, 1.4620e-05,\n",
      "         1.1230e-05, 1.8165e-05, 7.0084e-06, 1.6970e-05, 1.1369e-05, 1.7200e-05,\n",
      "         1.3591e-05, 3.8108e-05, 4.0937e-05, 5.5409e-05, 7.2063e-06, 9.3089e-06,\n",
      "         1.9893e-06, 1.7643e-06, 3.5984e-06, 1.9316e-05, 1.2337e-06, 2.4379e-06,\n",
      "         1.9037e-06, 1.7867e-06, 5.2509e-07, 7.4345e-06, 3.3814e-06, 4.9926e-05,\n",
      "         3.5611e-05, 2.0165e-05, 2.0725e-05, 1.7502e-05, 1.1480e-05, 6.4338e-06,\n",
      "         7.3872e-06, 1.7835e-06, 1.6024e-05, 2.0018e-06, 1.0900e-05, 1.3247e-06,\n",
      "         4.4744e-06, 4.2421e-06, 6.8192e-06, 4.6866e-06, 3.2310e-06, 5.0520e-06,\n",
      "         3.9738e-06, 8.7461e-06, 2.3916e-05, 6.7125e-06, 5.2802e-06, 1.1909e-05,\n",
      "         1.9763e-05, 6.1435e-06, 7.9245e-06, 2.0932e-05, 1.0684e-05, 7.4484e-06,\n",
      "         1.2894e-05, 8.5901e-06, 1.6686e-05, 3.7339e-06, 4.4431e-06, 5.8268e-06,\n",
      "         4.8393e-06, 1.7470e-05, 3.2737e-06, 4.3600e-06, 4.0579e-06, 2.8896e-06,\n",
      "         1.4765e-06, 2.9141e-06, 5.3930e-06, 7.0452e-05, 8.3364e-06, 2.0001e-05,\n",
      "         3.9166e-06, 3.8188e-06, 1.3779e-05, 8.8881e-06, 6.7420e-06, 2.0603e-06,\n",
      "         1.4043e-06, 1.7739e-05, 1.5062e-05, 2.5190e-06, 1.6207e-05, 4.9036e-05,\n",
      "         1.6444e-05, 4.3610e-06, 8.6503e-06, 7.9763e-06, 6.3604e-06, 1.5397e-06,\n",
      "         1.4881e-05, 8.2054e-07, 9.5235e-07, 6.5461e-07, 1.3501e-06, 1.9475e-06,\n",
      "         6.1294e-06, 6.8036e-06, 4.4351e-05, 1.1405e-05, 2.6568e-05, 2.3464e-05,\n",
      "         9.0707e-06, 1.3744e-05, 8.9864e-06, 1.5864e-05, 4.5511e-06, 1.0617e-05,\n",
      "         1.8288e-06, 6.9735e-06, 1.4567e-06, 3.3804e-06, 6.9531e-06, 8.2241e-06,\n",
      "         1.8913e-05, 1.0177e-05, 4.3432e-06, 2.4287e-06, 1.1394e-06, 2.5094e-05,\n",
      "         6.9225e-06, 4.5133e-06, 1.2785e-05, 2.3114e-06, 3.1500e-06, 1.3330e-06,\n",
      "         2.3503e-06, 3.7035e-06, 2.7364e-06, 1.1947e-06, 8.2458e-07, 5.9460e-06,\n",
      "         7.7518e-05, 1.5917e-05, 1.5189e-05, 5.8873e-06, 1.4468e-05, 2.4201e-05,\n",
      "         2.4984e-06, 2.8183e-05, 2.5929e-05, 2.8086e-05, 9.5020e-06, 1.9952e-05,\n",
      "         1.1818e-05, 4.3571e-07, 1.1732e-06, 3.8938e-06, 1.4274e-05, 1.5560e-05,\n",
      "         1.1028e-05, 1.3790e-05, 2.4981e-06, 4.4072e-05, 8.9793e-05, 4.6183e-05,\n",
      "         4.0175e-05, 8.8026e-05, 9.5923e-06, 2.3694e-05, 1.8032e-05, 1.0196e-04,\n",
      "         2.3034e-05, 8.5484e-05, 1.7272e-05, 7.4563e-06, 4.1714e-06, 3.2002e-06,\n",
      "         1.0748e-05, 5.7423e-05, 2.0265e-04, 5.3854e-05, 1.9841e-05, 1.1948e-05,\n",
      "         1.1580e-05, 1.2812e-05, 4.7818e-05, 2.3398e-05, 1.1680e-05, 2.7528e-05,\n",
      "         1.8510e-05, 2.0027e-05, 2.7890e-05, 7.0042e-06, 3.7410e-05, 2.4778e-05,\n",
      "         3.5827e-06, 1.7230e-05, 1.7511e-05, 1.4655e-04, 2.9321e-05, 1.1533e-05,\n",
      "         8.1742e-06, 1.5753e-05, 5.2897e-05, 9.0146e-06, 3.6246e-06, 1.1370e-05,\n",
      "         7.0329e-05, 2.3880e-04, 1.1708e-05, 3.2061e-05, 1.6035e-05, 3.0627e-05,\n",
      "         9.0648e-05, 2.1959e-04, 5.4217e-05, 7.0651e-06, 6.3450e-06, 2.4058e-05,\n",
      "         1.3917e-05, 1.4860e-04, 5.3790e-05, 1.5216e-05, 2.7862e-05, 5.4726e-05,\n",
      "         9.0177e-06, 2.5832e-05, 1.8001e-05, 3.4803e-05, 2.5983e-05, 1.2120e-05,\n",
      "         5.4946e-06, 7.6369e-06, 1.2908e-05, 6.0870e-06, 1.2539e-06, 1.1406e-05,\n",
      "         5.7818e-06, 1.3258e-04, 7.1392e-05, 2.7858e-05, 1.5031e-05, 2.3568e-05,\n",
      "         3.7485e-05, 3.4106e-06, 3.8837e-05, 4.0791e-06, 1.6027e-05, 4.3502e-06,\n",
      "         8.6693e-06, 1.0363e-04, 1.8493e-06, 1.0098e-04, 2.2425e-04, 2.5189e-05,\n",
      "         2.7107e-05, 3.0961e-05, 6.6729e-05, 3.5719e-05, 8.3453e-06, 5.4260e-05,\n",
      "         1.2604e-06, 5.3472e-06, 1.7747e-05, 1.4943e-05, 9.7564e-05, 7.1255e-05,\n",
      "         1.9100e-05, 1.6143e-05, 8.8518e-05, 3.2036e-05, 1.8593e-05, 3.2226e-05,\n",
      "         4.7287e-05, 8.9838e-05, 1.3779e-05, 1.6974e-05, 1.2468e-05, 4.3266e-06,\n",
      "         6.9299e-06, 2.9769e-05, 3.1970e-05, 1.0839e-05, 3.5101e-05, 4.2180e-06,\n",
      "         2.4744e-05, 7.9818e-06, 8.2643e-06, 2.7115e-06, 2.3115e-05, 7.7688e-05,\n",
      "         2.2774e-06, 1.0686e-04, 5.5755e-05, 5.2763e-05, 1.5606e-05, 4.9858e-05,\n",
      "         1.0713e-05, 2.7086e-06, 4.4258e-06, 3.5309e-05, 7.4167e-06, 2.0147e-05,\n",
      "         2.1269e-05, 1.0246e-05, 3.5291e-06, 1.4734e-05, 3.0595e-05, 1.4666e-04,\n",
      "         1.6234e-04, 8.7996e-05, 1.1404e-05, 1.3246e-05, 4.0788e-05, 5.6279e-06,\n",
      "         8.8089e-06, 4.5545e-06, 1.2000e-05, 5.6658e-05, 4.7719e-05, 7.9212e-06,\n",
      "         6.8766e-05, 1.6665e-05, 2.5667e-05, 1.5075e-06, 1.0131e-05, 1.4081e-05,\n",
      "         6.6025e-06, 1.6918e-04, 1.7677e-05, 8.4162e-06, 2.6076e-05, 1.4190e-05,\n",
      "         3.9499e-05, 1.0772e-04, 4.3759e-05, 3.4314e-05, 2.6626e-05, 8.5992e-05,\n",
      "         6.6438e-05, 1.7054e-05, 6.8583e-06, 1.3790e-04, 1.4716e-06, 3.7381e-05,\n",
      "         1.2795e-05, 1.1677e-05, 8.3648e-05, 1.6035e-05, 9.7341e-06, 7.9249e-05,\n",
      "         3.7934e-04, 2.5980e-05, 5.4352e-05, 6.0538e-06, 1.5032e-05, 2.1792e-05,\n",
      "         3.1343e-05, 1.3561e-05, 1.7044e-05, 1.1414e-05, 5.4726e-05, 9.9626e-05,\n",
      "         2.8405e-05, 2.2517e-05, 3.5087e-05, 1.2762e-05, 4.6436e-05, 6.4426e-05,\n",
      "         7.3527e-05, 5.7290e-05, 7.7445e-05, 2.8463e-05, 3.9045e-05, 7.6860e-05,\n",
      "         8.6613e-06, 2.6804e-06, 7.6876e-05, 8.8250e-06, 2.6621e-06, 1.1188e-05,\n",
      "         1.5013e-05, 5.1154e-05, 1.0107e-05, 3.8958e-05, 3.2251e-05, 1.4778e-05,\n",
      "         1.0479e-04, 1.9208e-05, 2.4994e-05, 1.4286e-05, 2.3431e-06, 1.2248e-04,\n",
      "         1.0219e-05, 1.4689e-04, 3.6652e-05, 6.5674e-06, 5.8947e-05, 1.5038e-05,\n",
      "         4.8672e-06, 8.3083e-06, 4.7543e-05, 9.6528e-06, 1.0773e-04, 4.8841e-05,\n",
      "         3.0811e-05, 4.7258e-05, 3.0812e-05, 9.2109e-06, 5.9784e-05, 2.1315e-05,\n",
      "         1.2813e-05, 8.3818e-06, 7.8340e-06, 3.9208e-06, 4.3061e-05, 4.6490e-06,\n",
      "         2.7883e-05, 2.8651e-05, 3.8551e-06, 6.5229e-06, 1.3589e-05, 1.8693e-05,\n",
      "         1.3391e-05, 1.3002e-05, 4.3013e-05, 5.9149e-06, 4.2140e-05, 3.1217e-05,\n",
      "         5.0920e-05, 1.3821e-05, 1.9731e-05, 3.5371e-05, 9.6683e-06, 2.1147e-05,\n",
      "         5.1487e-05, 2.0608e-06, 1.5058e-05, 3.6596e-06, 4.5410e-06, 1.1752e-05,\n",
      "         5.7148e-06, 1.4536e-05, 4.6250e-05, 2.6694e-05, 1.1832e-05, 4.5889e-05,\n",
      "         7.9915e-05, 2.3480e-05, 5.0432e-06, 3.9880e-05, 4.5491e-05, 1.7293e-05,\n",
      "         3.3800e-05, 7.5096e-06, 2.6669e-05, 5.6395e-05, 4.0047e-05, 2.0070e-05,\n",
      "         4.0420e-05, 6.6429e-05, 6.5109e-05, 2.6982e-05, 1.4010e-05, 2.9920e-06,\n",
      "         1.7334e-05, 3.3783e-05, 1.3126e-04, 7.2014e-06, 1.8018e-05, 4.3130e-05,\n",
      "         7.9450e-06, 5.2610e-05, 1.0389e-04, 4.9465e-05, 7.9858e-06, 5.8128e-05,\n",
      "         4.8436e-06, 2.6051e-05, 4.0227e-05, 4.6085e-05, 6.6269e-05, 2.3423e-04,\n",
      "         1.3035e-05, 1.6755e-04, 4.5609e-06, 1.4370e-05, 3.7558e-06, 1.4106e-05,\n",
      "         3.4897e-05, 3.3585e-06, 6.8324e-05, 1.6284e-05, 1.2867e-05, 1.4050e-05,\n",
      "         2.3400e-05, 4.8774e-06, 6.3879e-06, 4.6416e-05, 9.6493e-05, 8.6054e-05,\n",
      "         4.0218e-05, 3.3151e-06, 1.3074e-05, 2.8317e-05, 4.9181e-05, 6.5498e-06,\n",
      "         2.5425e-05, 1.2986e-05, 6.9222e-05, 2.0128e-05, 6.9969e-05, 2.0684e-05,\n",
      "         3.7608e-05, 3.5350e-05, 5.6432e-05, 4.3602e-05, 1.3679e-05, 2.5242e-05,\n",
      "         1.5153e-05, 8.4269e-05, 1.7244e-05, 1.1545e-05, 7.8586e-05, 3.3121e-05,\n",
      "         2.4338e-05, 3.8810e-05, 6.3500e-06, 4.6124e-05, 3.6356e-05, 1.1071e-05,\n",
      "         4.1969e-06, 8.7538e-06, 4.4718e-05, 3.0948e-05, 7.4165e-05, 1.1307e-05,\n",
      "         2.6823e-05, 7.0370e-05, 1.4973e-05, 3.4565e-05, 7.4378e-05, 5.3535e-05,\n",
      "         1.4022e-04, 2.3341e-05, 2.7371e-05, 1.3083e-05, 1.2568e-04, 6.8826e-05,\n",
      "         3.0740e-06, 1.6187e-04, 9.9873e-06, 2.2152e-05, 3.4545e-06, 1.3172e-05,\n",
      "         1.2080e-05, 2.3945e-05, 3.4598e-05, 3.1812e-05, 1.3041e-04, 1.2316e-05,\n",
      "         1.7922e-06, 2.2945e-05, 8.1006e-06, 1.3618e-04, 4.4566e-06, 2.0926e-05,\n",
      "         2.9713e-05, 3.9420e-06, 1.0299e-04, 1.0841e-05, 1.7082e-06, 1.5632e-05,\n",
      "         1.7436e-05, 7.2070e-05, 2.1408e-04, 7.3018e-06, 3.0115e-05, 3.6349e-05,\n",
      "         1.8349e-04, 1.0625e-05, 3.5746e-05, 2.2004e-05, 3.0352e-06, 1.4538e-06,\n",
      "         6.3831e-05, 7.5233e-05, 7.0706e-05, 4.9675e-05, 8.2353e-05, 1.9972e-05,\n",
      "         1.4709e-04, 4.3264e-05, 2.5653e-05, 2.5711e-05, 1.0072e-05, 3.5634e-05,\n",
      "         2.9321e-05, 9.4227e-06, 1.4853e-05, 4.1909e-05, 7.8788e-05, 7.1094e-05,\n",
      "         1.8552e-04, 1.7020e-05, 2.9888e-05, 5.4206e-05, 1.1391e-05, 1.0847e-05,\n",
      "         3.1470e-05, 6.3341e-05, 2.2221e-05, 1.5196e-05, 3.2823e-05, 1.1081e-05,\n",
      "         2.4097e-05, 2.5775e-05, 1.0145e-05, 1.0418e-05, 9.6191e-05, 1.8169e-05,\n",
      "         3.8480e-05, 9.9741e-07, 7.0466e-05, 4.6133e-06, 1.8944e-06, 9.9913e-06,\n",
      "         5.6547e-05, 5.4696e-06, 2.1273e-06, 5.7191e-05, 2.2789e-05, 8.2715e-06,\n",
      "         1.3205e-04, 5.2088e-05, 8.4751e-06, 1.3653e-04, 2.1327e-05, 1.4904e-05,\n",
      "         1.0242e-05, 4.5455e-05, 3.2305e-06, 1.3561e-05, 1.9138e-05, 3.1846e-05,\n",
      "         2.7247e-05, 1.9597e-06, 7.6565e-06, 1.8441e-05, 1.4495e-04, 8.8563e-05,\n",
      "         7.8650e-06, 1.7885e-05, 1.6363e-04, 5.2638e-05, 9.6635e-05, 5.8575e-05,\n",
      "         2.9287e-05, 4.9912e-05, 2.6427e-06, 6.7255e-05, 1.2859e-04, 1.2832e-04,\n",
      "         6.7733e-05, 2.2308e-05, 7.0847e-07, 1.3416e-05, 2.0509e-05, 3.8734e-05,\n",
      "         7.1577e-06, 5.3335e-05, 1.7462e-05, 2.1654e-04, 1.1862e-05, 1.6811e-05,\n",
      "         1.4219e-05, 5.5565e-06, 3.2722e-06, 2.4750e-05, 1.6074e-05, 7.6151e-05,\n",
      "         4.0662e-05, 6.0237e-06, 1.8414e-05, 2.6902e-06, 2.2883e-05, 2.1085e-05,\n",
      "         3.7096e-05, 1.5481e-05, 2.0026e-05, 1.0047e-05, 2.8757e-05, 1.5861e-05,\n",
      "         4.1228e-05, 6.6723e-06, 6.9474e-06, 2.0510e-05, 6.7112e-06, 6.2192e-05,\n",
      "         7.0297e-05, 1.3378e-05, 9.3998e-06, 8.9743e-06, 1.3826e-05, 6.8901e-06,\n",
      "         5.8904e-05, 4.6860e-06, 1.4335e-05, 9.8334e-06, 3.7715e-05, 4.3853e-06,\n",
      "         1.1318e-05, 3.0154e-05, 1.2729e-05, 8.5568e-06, 7.2847e-06, 1.9722e-05,\n",
      "         4.3723e-05, 4.3562e-06, 1.3176e-05, 1.3593e-05, 1.9268e-05, 2.6757e-05,\n",
      "         1.6045e-05, 6.2588e-05, 4.4759e-06, 7.8452e-05, 6.7346e-06, 4.0163e-05,\n",
      "         1.0637e-05, 1.2313e-05, 1.7742e-05, 1.0559e-05, 2.4718e-05, 2.6624e-05,\n",
      "         1.5291e-05, 4.4517e-06, 2.5256e-06, 1.0333e-04, 5.2768e-05, 6.0633e-06,\n",
      "         1.6415e-05, 1.5362e-05, 9.3061e-06, 1.7661e-06, 6.3298e-06, 1.6501e-05,\n",
      "         4.9349e-05, 2.5143e-05, 5.1134e-05, 1.3934e-05]],\n",
      "       grad_fn=<SoftmaxBackward0>)\n",
      "tensor([[0.6112]], grad_fn=<TopkBackward0>) tensor([[1]])\n"
     ]
    },
    {
     "data": {
      "text/plain": [
       "('Predicted :', 'chinese')"
      ]
     },
     "execution_count": 121,
     "metadata": {},
     "output_type": "execute_result"
    }
   ],
   "source": [
    "predict_image_class_name('chinese-test.jpg',model) "
   ]
  },
  {
   "cell_type": "code",
   "execution_count": null,
   "metadata": {},
   "outputs": [],
   "source": []
  }
 ],
 "metadata": {
  "kernelspec": {
   "display_name": "Python 3.10.6 64-bit",
   "language": "python",
   "name": "python3"
  },
  "language_info": {
   "codemirror_mode": {
    "name": "ipython",
    "version": 3
   },
   "file_extension": ".py",
   "mimetype": "text/x-python",
   "name": "python",
   "nbconvert_exporter": "python",
   "pygments_lexer": "ipython3",
   "version": "3.10.6"
  },
  "orig_nbformat": 4,
  "vscode": {
   "interpreter": {
    "hash": "916dbcbb3f70747c44a77c7bcd40155683ae19c65e1c03b4aa3499c5328201f1"
   }
  }
 },
 "nbformat": 4,
 "nbformat_minor": 2
}
